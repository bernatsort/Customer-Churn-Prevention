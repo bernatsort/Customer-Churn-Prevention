{
  "cells": [
    {
      "cell_type": "markdown",
      "metadata": {
        "id": "view-in-github",
        "colab_type": "text"
      },
      "source": [
        "<a href=\"https://colab.research.google.com/github/bernatsort/Customer_Churn_Prevention/blob/main/customer_churn_prevention.ipynb\" target=\"_parent\"><img src=\"https://colab.research.google.com/assets/colab-badge.svg\" alt=\"Open In Colab\"/></a>"
      ]
    },
    {
      "cell_type": "markdown",
      "source": [
        "Bernat Sort Rufat\n",
        "\n",
        "MD004_Advanced data analysis and visualization tools\n",
        "\n",
        "Proyecto Final de la asignatura Herramientas avanzadas de análisis y visualización de datos\n",
        "\n",
        "Máster en Data Science"
      ],
      "metadata": {
        "id": "N-aRx1iFGsHU"
      },
      "id": "N-aRx1iFGsHU"
    },
    {
      "cell_type": "markdown",
      "id": "f8a09aa1-3d2d-4fc9-974b-db51d8df2cb0",
      "metadata": {
        "id": "f8a09aa1-3d2d-4fc9-974b-db51d8df2cb0"
      },
      "source": [
        "# Customer Churn Prevention\n",
        "\n"
      ]
    },
    {
      "cell_type": "markdown",
      "id": "44afd17e-8612-48c7-ad44-0b1e6d9e7d61",
      "metadata": {
        "id": "44afd17e-8612-48c7-ad44-0b1e6d9e7d61"
      },
      "source": [
        "## Objetivos:\n",
        "\n",
        "El objetivo de este proyecto es encontrar acciones concretas que nos ayuden a prevenir que un cliente haga churn.\n",
        "Para ello, se seguirán una serie de pasos que nos ayudarán a cumplir el objetivo. \n",
        "\n",
        "- Análisis exploratorio de los datos:\n",
        "    - Estadística descriptiva y calidad general de los datos.\n",
        "    - Visualizaciones que ayuden a entender la distribución de las variables y categorías.\n",
        "    - Visualizaciones que ayuden a entender la relación entre los atributos y la variable objetivo is_churned.\n",
        "    - Resumen de las conclusiones sacadas en este punto.\n",
        "    \n",
        "    \n",
        "- Análisis de datos mediante el uso de técnicas estadísticas:\n",
        "    - De entre las siguientes pruebas (Correlación, PCA, ANOVA, Información Mútua) se seleccionen al menos 2 pruebas sobre las que basar el análisis. Para estas pruebas se pide:\n",
        "        - Desarrollo teórico de la técnica: ¿Qué es?, ¿Para que sirve? ¿Por qué utilizamos éstas pruebas y no otras?\n",
        "        - Desarrollo de la técnica sobre el conjunto de datos: Analizar y explicar los resultados obtenidos.\n",
        "        - Podéis (y recomendamos) utilizar todas las ténicas enumeradas. El requisito del desarrollo teórico de la ténica a desarrollar se aplica únicamente a 2 de ellas como mínimo.\n",
        "\n",
        "\n",
        "- Desarrollo del modelo de regresión logística: \n",
        "    - Desarrollo y justificación de las variables empleadas en el modelo.\n",
        "    - Selección y justificación de la métrica de optimización del modelo.\n",
        "    - Desarrollo de al menos 3 modelo y comparación de resultados (Matriz de confusión).\n",
        "\n",
        "- Conclusiones y vías abiertas: \n",
        "    - ¿Qué recomendaciones le daríais a esta empresa para reducir churn? \n",
        "    - ¿Cómo os ayuda el modelo que habéis calculado a llegar a estas conclusiones?\n"
      ]
    },
    {
      "cell_type": "markdown",
      "id": "039acd47-ea2c-43f7-8460-1e99eded510e",
      "metadata": {
        "tags": [],
        "id": "039acd47-ea2c-43f7-8460-1e99eded510e"
      },
      "source": [
        "## Carga de packages"
      ]
    },
    {
      "cell_type": "code",
      "source": [
        "sessionInfo()"
      ],
      "metadata": {
        "id": "x5f6QTtzoPNi"
      },
      "id": "x5f6QTtzoPNi",
      "execution_count": null,
      "outputs": []
    },
    {
      "cell_type": "code",
      "source": [
        "install.packages('gridExtra')\n",
        "install.packages('GGally')\n",
        "install.packages('caret')\n",
        "install.packages('naniar')\n",
        "install.packages('mice')\n",
        "install.packages('ltm')\n",
        "install.packages('FSelectorRcpp')\n",
        "install.packages('nortest')\n",
        "install.packages('regclass')\n",
        "install.packages(\"forcats\")\n",
        "install.packages(\"dplyr\")"
      ],
      "metadata": {
        "id": "c0hMXdfWGePs"
      },
      "id": "c0hMXdfWGePs",
      "execution_count": null,
      "outputs": []
    },
    {
      "cell_type": "code",
      "execution_count": null,
      "id": "537c4e90-a9d8-441e-a65f-bd121d6a1361",
      "metadata": {
        "tags": [],
        "id": "537c4e90-a9d8-441e-a65f-bd121d6a1361"
      },
      "outputs": [],
      "source": [
        "library(ggplot2)\n",
        "\n",
        "# install.packages('gridExtra')\n",
        "library(gridExtra)\n",
        "\n",
        "# install.packages ('GGally')\n",
        "library(GGally)\n",
        "\n",
        "library(caret)\n",
        "\n",
        "library(dplyr)\n",
        "\n",
        "library(RColorBrewer)\n",
        "\n",
        "# install.packages('naniar')\n",
        "library(naniar)\n",
        "\n",
        "# install.packages('mice')\n",
        "library(mice)\n",
        "\n",
        "# install.packages('ltm')\n",
        "library(ltm)\n",
        "\n",
        "# install.packages('FSelectorRcpp')\n",
        "library(FSelectorRcpp)\n",
        "\n",
        "\n",
        "# install.packages('nortest')\n",
        "library(nortest)\n",
        "\n",
        "# install.packages('regclass')\n",
        "library(regclass)\n",
        "\n",
        "library(forcats)"
      ]
    },
    {
      "cell_type": "markdown",
      "id": "60699b04-d8f9-4f53-a953-fdad05d22b68",
      "metadata": {
        "id": "60699b04-d8f9-4f53-a953-fdad05d22b68"
      },
      "source": [
        "## Carga de datos"
      ]
    },
    {
      "cell_type": "code",
      "execution_count": null,
      "id": "500c447c-396b-48d9-927b-275fd7132a3a",
      "metadata": {
        "id": "500c447c-396b-48d9-927b-275fd7132a3a"
      },
      "outputs": [],
      "source": [
        "# cargamos los datos en el df\n",
        "cust_churn_df <- read.csv(file=\"customer_churn_data.csv\", header=TRUE, sep=\",\", dec=\".\")"
      ]
    },
    {
      "cell_type": "markdown",
      "id": "88530e03-c4b3-4823-a221-5a2cc3a41621",
      "metadata": {
        "tags": [],
        "id": "88530e03-c4b3-4823-a221-5a2cc3a41621"
      },
      "source": [
        "## Exploratory Data Analysis"
      ]
    },
    {
      "cell_type": "markdown",
      "id": "4b036d65-8686-4f53-8cef-1de6795dec33",
      "metadata": {
        "id": "4b036d65-8686-4f53-8cef-1de6795dec33"
      },
      "source": [
        "El csv customer_churn_data incluye datos cualitativos y cuantitativos de clientes de una empresa de telecomunicaciones india en la que se detallan aspectos de los clientes de la empresa. Está compuesto por 104143 instancias y 18 variables.\n",
        "\n",
        "El dataset se compone de las siguientes columnas:\n",
        "\n",
        "Descripción de las variables:\n",
        "- device user’s – device brand (Categorical)\n",
        "- first_payment_amount  – user’s first payment amount(Numeric)\n",
        "- age  – user’s age(Numeric or categorical?)\n",
        "- city  – user’s city(Categorical)\n",
        "- number_of_cards  – #of cards user owns\n",
        "- payments_initiated  – #of payments initiated by user\n",
        "- payments_failed  – #of payments failed\n",
        "- payments_completed – #of payments completed\n",
        "- payments_completed_amount_first_7days  – amt of payment completed in first 7 days of joining\n",
        "- reward_purchase_count_first_7days – #of rewards claimed in first 7 days\n",
        "- coins_redeemed_first_7days – coins redeemed in first 7 days\n",
        "- is_referral – is user a referred user\n",
        "- visits_feature_1  – #of visits made by user to product feature 1\n",
        "- visits_feature_2 – #of visits made by user to product feature 2\n",
        "- given_permission_1 – has user given permission 1\n",
        "- given_permission_2 – has user given permission 2\n",
        "- user_id – user identifier\n",
        "- is_churned – whether user churned"
      ]
    },
    {
      "cell_type": "code",
      "execution_count": null,
      "id": "983036a1-59cb-4eb7-9eb9-f580034bd4c9",
      "metadata": {
        "id": "983036a1-59cb-4eb7-9eb9-f580034bd4c9"
      },
      "outputs": [],
      "source": [
        "head(cust_churn_df) # de forma predefinida retorna las primeras 6 observations\n",
        "tail(cust_churn_df) # de forma predefinida retorna las últimas 6 observations"
      ]
    },
    {
      "cell_type": "code",
      "execution_count": null,
      "id": "e7478f39-3fa2-41de-aef1-087cafc7d8af",
      "metadata": {
        "id": "e7478f39-3fa2-41de-aef1-087cafc7d8af"
      },
      "outputs": [],
      "source": [
        "# dimensión del df (filas y columnas)\n",
        "dim(cust_churn_df)"
      ]
    },
    {
      "cell_type": "markdown",
      "id": "9c613ba7-43ee-47fe-88de-f809d866c7e8",
      "metadata": {
        "id": "9c613ba7-43ee-47fe-88de-f809d866c7e8"
      },
      "source": [
        "- El dataset incluye 104143 instancias (filas) y 18 variables (columnas)."
      ]
    },
    {
      "cell_type": "code",
      "execution_count": null,
      "id": "6142b9d9-26c6-4b24-a47c-9980d3543c33",
      "metadata": {
        "tags": [],
        "id": "6142b9d9-26c6-4b24-a47c-9980d3543c33"
      },
      "outputs": [],
      "source": [
        "# estructura interna compacta del df\n",
        "str(cust_churn_df)"
      ]
    },
    {
      "cell_type": "markdown",
      "id": "0b376664-d5a5-415c-ac31-2730df791e32",
      "metadata": {
        "id": "0b376664-d5a5-415c-ac31-2730df791e32"
      },
      "source": [
        "- Observamos que is_referral, given_permission_1, given_permission_2 y is_churned en realidad son variables categóricas. Por lo tanto, las convertiremos de numéricas a categóricas. "
      ]
    },
    {
      "cell_type": "markdown",
      "id": "1d4f2449-89e0-439a-8a42-a1f26da07c17",
      "metadata": {
        "id": "1d4f2449-89e0-439a-8a42-a1f26da07c17"
      },
      "source": [
        "- Logi es la forma abreviada de logical, que es un tipo de datos en R que representa un valor booleano de TRUE o FALSE. En este caso, is_referral era originalmente una variable lógica con valores TRUE y FALSE.\n",
        "\n",
        "- Sería una buena idea convertir la variable is_referral en un factor con 0 y 1, ya es una variable binaria. Esto facilitará la interpretación de la variable y su uso en la modelización.\n",
        "    - 0: FALSE (user is not a referred user)\n",
        "    - 1: TRUE (user is a referred user)"
      ]
    },
    {
      "cell_type": "code",
      "execution_count": null,
      "id": "9a7ed521-b856-4f39-8289-f4843c5cf89e",
      "metadata": {
        "id": "9a7ed521-b856-4f39-8289-f4843c5cf89e"
      },
      "outputs": [],
      "source": [
        "cust_churn_df$is_referral <- as.factor(ifelse(cust_churn_df$is_referral, 1, 0))\n",
        "cust_churn_df$is_referral"
      ]
    },
    {
      "cell_type": "code",
      "execution_count": null,
      "id": "3c27fea4-7604-4fe8-b222-34cff02c7465",
      "metadata": {
        "id": "3c27fea4-7604-4fe8-b222-34cff02c7465"
      },
      "outputs": [],
      "source": [
        "# convertimos given_permission_1, given_permission_2, is_churned a categóricas (factor)\n",
        "cust_churn_df$given_permission_1 = as.factor(cust_churn_df$given_permission_1)\n",
        "cust_churn_df$given_permission_2 = as.factor(cust_churn_df$given_permission_2)\n",
        "cust_churn_df$is_churned = as.factor(cust_churn_df$is_churned)"
      ]
    },
    {
      "cell_type": "code",
      "execution_count": null,
      "id": "2a50eaad-d3fe-44fa-822d-f49681b99824",
      "metadata": {
        "id": "2a50eaad-d3fe-44fa-822d-f49681b99824"
      },
      "outputs": [],
      "source": [
        "str(cust_churn_df)"
      ]
    },
    {
      "cell_type": "code",
      "execution_count": null,
      "id": "37991315-0f61-4da8-93c3-5cd2b9d3babd",
      "metadata": {
        "tags": [],
        "id": "37991315-0f61-4da8-93c3-5cd2b9d3babd"
      },
      "outputs": [],
      "source": [
        "# visión general del df\n",
        "summary(cust_churn_df)"
      ]
    },
    {
      "cell_type": "markdown",
      "id": "439498e8-ba4b-4e7a-9c93-9fcc0a192ae9",
      "metadata": {
        "id": "439498e8-ba4b-4e7a-9c93-9fcc0a192ae9"
      },
      "source": [
        "La función summary() proporciona algunas estadísticas básicas para cada variable del conjunto de datos.\n",
        "- Podemos observar que algunas variables tienen NA values. \n",
        "- Podemos ver que variables como coins_redeemed_first_7days, first_payment_amount y payments_completed_amount_first_7days tienen un amplio rango de valores y presentan una gran diferencia entre la mediana y la media.\n",
        "\n"
      ]
    },
    {
      "cell_type": "code",
      "execution_count": null,
      "id": "3b04a616-716f-4e0c-88d9-9581b50a2c37",
      "metadata": {
        "id": "3b04a616-716f-4e0c-88d9-9581b50a2c37"
      },
      "outputs": [],
      "source": [
        "# miramos si hay valores nulos\n",
        "sum(is.na(cust_churn_df))"
      ]
    },
    {
      "cell_type": "markdown",
      "id": "746376f0-784e-46e0-b9ba-848cc0c8b734",
      "metadata": {
        "id": "746376f0-784e-46e0-b9ba-848cc0c8b734"
      },
      "source": [
        "- Observamos que hay un total de 31530 valores nulos en el dataset. "
      ]
    },
    {
      "cell_type": "markdown",
      "id": "0c92025a-ebe8-4d5b-a4bf-24913ad390cc",
      "metadata": {
        "id": "0c92025a-ebe8-4d5b-a4bf-24913ad390cc"
      },
      "source": [
        "Mostramos las columnas con NA values y el número de NA values:\n",
        "- Creamos el vector na_cols que contiene los nombres de las columnas de cust_churn_df que tienen al menos un NA value. \n",
        "- La función sapply aplica la función function(x) sum(is.na(x)) a cada columna de cust_churn_df, que cuenta el número de valores que faltan en cada columna. \n",
        "- El resultado de esta operación es un vector lógico que indica qué columnas tienen al menos un valor omitido. \n",
        "- La función *names* se utiliza para extraer los nombres de las columnas de este vector lógico. \n",
        "- Por último, se asigna a na_cols el vector de nombres de columnas con al menos un NA value."
      ]
    },
    {
      "cell_type": "code",
      "execution_count": null,
      "id": "363eba2b-75b6-4b60-a3d4-f04b51759446",
      "metadata": {
        "id": "363eba2b-75b6-4b60-a3d4-f04b51759446"
      },
      "outputs": [],
      "source": [
        "na_cols <- names(cust_churn_df)[sapply(cust_churn_df, function(x) sum(is.na(x))) > 0]\n",
        "message(\"Number of NA's per variable:\")\n",
        "for (col in na_cols) {\n",
        "  message(paste0(col, \": \", sum(is.na(cust_churn_df[[col]]))))\n",
        "}"
      ]
    },
    {
      "cell_type": "markdown",
      "id": "293bb629-f9f6-45e8-838c-5441365651e9",
      "metadata": {
        "tags": [],
        "id": "293bb629-f9f6-45e8-838c-5441365651e9"
      },
      "source": [
        "### Variable Objetivo: is_churned"
      ]
    },
    {
      "cell_type": "markdown",
      "id": "3208e052-a64d-45f6-8a84-efd5b7a79b1c",
      "metadata": {
        "id": "3208e052-a64d-45f6-8a84-efd5b7a79b1c"
      },
      "source": [
        "- Variable objetivo: is_churned"
      ]
    },
    {
      "cell_type": "code",
      "execution_count": null,
      "id": "1de3afe6-8dee-4a16-b791-12996f16ce07",
      "metadata": {
        "id": "1de3afe6-8dee-4a16-b791-12996f16ce07"
      },
      "outputs": [],
      "source": [
        "# distribución de frecuencias de la variable categórica objetivo is_churned\n",
        "is_churned_counts <- table(cust_churn_df$is_churned)\n",
        "is_churned_counts"
      ]
    },
    {
      "cell_type": "code",
      "execution_count": null,
      "id": "2f10be65-a489-4d60-a93c-3bd20234f14a",
      "metadata": {
        "id": "2f10be65-a489-4d60-a93c-3bd20234f14a"
      },
      "outputs": [],
      "source": [
        "# proporción de cada categoría\n",
        "prop.table(table(cust_churn_df$is_churned))"
      ]
    },
    {
      "cell_type": "code",
      "execution_count": null,
      "id": "f2a0c6de-8a59-46dd-a099-2968ea40719d",
      "metadata": {
        "id": "f2a0c6de-8a59-46dd-a099-2968ea40719d"
      },
      "outputs": [],
      "source": [
        "# Create a data frame from the table\n",
        "is_churned_df <- data.frame(is_churned = names(is_churned_counts), count = as.numeric(is_churned_counts))\n",
        "\n",
        "# Create the plot using ggplot2\n",
        "ggplot(is_churned_df, aes(x = is_churned, y = count)) +\n",
        "  geom_bar(stat = \"identity\", fill = \"blue\") +\n",
        "  labs(x = \"Is Churned\", y = \"Count\", title = \"Churned vs Non-Churned Customers\")"
      ]
    },
    {
      "cell_type": "markdown",
      "id": "5ca8fb62-bc84-4058-928c-c20301e07645",
      "metadata": {
        "id": "5ca8fb62-bc84-4058-928c-c20301e07645"
      },
      "source": [
        "- La variable objetivo is_churned presenta un desbalanceo de clases:\n",
        "    -  0: 74274     \n",
        "    -  1: 29869"
      ]
    },
    {
      "cell_type": "markdown",
      "id": "74b32625-f446-4fdd-8db2-1c2ddf445e5c",
      "metadata": {
        "id": "74b32625-f446-4fdd-8db2-1c2ddf445e5c"
      },
      "source": [
        "### Distribución de las variables categóricas"
      ]
    },
    {
      "cell_type": "markdown",
      "id": "e0182402-8fda-44a1-87de-fda3a0071cc3",
      "metadata": {
        "id": "e0182402-8fda-44a1-87de-fda3a0071cc3"
      },
      "source": [
        "#### Device"
      ]
    },
    {
      "cell_type": "code",
      "execution_count": null,
      "id": "7d7f3845-7245-4505-9938-9fbd863634db",
      "metadata": {
        "id": "7d7f3845-7245-4505-9938-9fbd863634db"
      },
      "outputs": [],
      "source": [
        "# Device\n",
        "options(repr.plot.width = 20, repr.plot.height = 6)\n",
        "\n",
        "pc1 <- ggplot(cust_churn_df, aes(x = device)) + \n",
        "  geom_bar() + \n",
        "  labs(title = \"Device Distribution\", x = \"Device\", y = \"Count\") +\n",
        "  theme(axis.text.x = element_text(angle = 90, vjust = 0.5, hjust=1))\n",
        "pc1"
      ]
    },
    {
      "cell_type": "markdown",
      "id": "97b8a446-f6a7-4b24-9348-f1146682f20d",
      "metadata": {
        "id": "97b8a446-f6a7-4b24-9348-f1146682f20d"
      },
      "source": [
        "- Observamos que hay un device 'unknown'."
      ]
    },
    {
      "cell_type": "code",
      "execution_count": null,
      "id": "82511208-8c7f-4f66-9321-dd96d713a421",
      "metadata": {
        "id": "82511208-8c7f-4f66-9321-dd96d713a421"
      },
      "outputs": [],
      "source": [
        "# Get the top 10 devices in descending order of count\n",
        "top_devices <- cust_churn_df %>%\n",
        "  count(device) %>%\n",
        "  arrange(desc(n)) %>%\n",
        "  head(10) %>%\n",
        "  pull(device)\n",
        "\n",
        "# Filter the data to include only the top 6 devices\n",
        "cust_churn_top6 <- cust_churn_df %>%\n",
        "  filter(device %in% top_devices)\n",
        "\n",
        "# Create a bar plot of the top 6 devices in descending order of count\n",
        "ggplot(cust_churn_top6, aes(x = fct_infreq(device), fill = device)) +\n",
        "  geom_bar() +\n",
        "  labs(title = \"Top 10 Device Distribution\", x = \"Device\", y = \"Count\", fill = \"Device\")\n"
      ]
    },
    {
      "cell_type": "markdown",
      "id": "eefca75b-dc75-47b2-8306-3058a239fe49",
      "metadata": {
        "id": "eefca75b-dc75-47b2-8306-3058a239fe49"
      },
      "source": [
        "- Observamos que la marca de dispositivos más utilizada por los usuarios es Xiaomi, seguida de Samsung y Apple. "
      ]
    },
    {
      "cell_type": "markdown",
      "id": "6c4442ae-f41e-4173-ac76-e203c846e117",
      "metadata": {
        "id": "6c4442ae-f41e-4173-ac76-e203c846e117"
      },
      "source": [
        "#### City"
      ]
    },
    {
      "cell_type": "code",
      "execution_count": null,
      "id": "3080c455-aa96-478e-9b28-a5589ab5a8cb",
      "metadata": {
        "id": "3080c455-aa96-478e-9b28-a5589ab5a8cb"
      },
      "outputs": [],
      "source": [
        "# City\n",
        "options(repr.plot.width = 100, repr.plot.height = 6)\n",
        "\n",
        "pc2 <- ggplot(cust_churn_df, aes(x = city)) + \n",
        "  geom_bar() + \n",
        "  labs(title = \"City Distribution\", x = \"City\", y = \"Count\") +\n",
        "  theme(axis.text.x = element_text(angle = 90, vjust = 0.5, hjust=1))\n",
        "\n",
        "pc2"
      ]
    },
    {
      "cell_type": "code",
      "execution_count": null,
      "id": "18f2521e-08dd-4235-b1e6-ebd054b6156a",
      "metadata": {
        "id": "18f2521e-08dd-4235-b1e6-ebd054b6156a"
      },
      "outputs": [],
      "source": [
        "# Get the top 10 cities in descending order of count\n",
        "top_cities <- cust_churn_df %>%\n",
        "  count(city) %>%\n",
        "  arrange(desc(n)) %>%\n",
        "  head(10) %>%\n",
        "  pull(city)\n",
        "\n",
        "# Filter the data to include only the top 10 cities\n",
        "cust_churn_top5 <- cust_churn_df %>%\n",
        "  filter(city %in% top_cities)\n",
        "\n",
        "# Create a bar plot of the top 10 cities in descending order of count\n",
        "ggplot(cust_churn_top5, aes(x = fct_infreq(city), fill = city)) +\n",
        "  geom_bar() +\n",
        "  labs(title = \"Top 10 City Distribution\", x = \"City\", y = \"Count\", fill = \"City\")"
      ]
    },
    {
      "cell_type": "markdown",
      "id": "e37a0f67-40bd-4540-a40a-eb67dbe9e06e",
      "metadata": {
        "id": "e37a0f67-40bd-4540-a40a-eb67dbe9e06e"
      },
      "source": [
        "- Observamos que la ciudad con más usuarios es NCR, seguida de Bangalore y Mumbai. "
      ]
    },
    {
      "cell_type": "markdown",
      "id": "dfd2b098-76af-45a2-8f1d-c9c7009292be",
      "metadata": {
        "id": "dfd2b098-76af-45a2-8f1d-c9c7009292be"
      },
      "source": [
        "#### is_referral, given_permission_1, given_permission_2"
      ]
    },
    {
      "cell_type": "code",
      "execution_count": null,
      "id": "dc205879-cafb-41ff-b7ec-5d3617f4629f",
      "metadata": {
        "id": "dc205879-cafb-41ff-b7ec-5d3617f4629f"
      },
      "outputs": [],
      "source": [
        "options(repr.plot.width = 10, repr.plot.height = 3)\n",
        "\n",
        "# is_referral\n",
        "pc3 <- ggplot(cust_churn_df, aes(x = is_referral)) + \n",
        "      geom_bar() + \n",
        "      labs(title = \"Referral Distribution\", x = \"Referral\", y = \"Count\") \n",
        "# given_permission_1\n",
        "pc4 <- ggplot(cust_churn_df, aes(x = given_permission_1)) + \n",
        "      geom_bar() + \n",
        "      labs(title = \"Permission 1 Distribution\", x = \"Permission 1\", y = \"Count\") \n",
        "# given_permission_2\n",
        "pc5 <- ggplot(cust_churn_df, aes(x = given_permission_2)) + \n",
        "      geom_bar() + \n",
        "      labs(title = \"Permission 2 Distribution\", x = \"Permission 2\", y = \"Count\")\n",
        "# arrange the plots in a 2x2 grid\n",
        "grid.arrange(pc3, pc4, pc5, ncol = 3)\n",
        "\n",
        "# distribución de frecuencias de la variable categórica objetivo is_churned\n",
        "message('is_referral:')\n",
        "table(cust_churn_df$is_referral)\n",
        "message('given_permission_1:')\n",
        "table(cust_churn_df$given_permission_1)\n",
        "message('given_permission_2:')\n",
        "table(cust_churn_df$given_permission_2)"
      ]
    },
    {
      "cell_type": "markdown",
      "id": "a7e28ada-9645-475a-b130-e200a61c840e",
      "metadata": {
        "id": "a7e28ada-9645-475a-b130-e200a61c840e"
      },
      "source": [
        "- Observamos que en given_permission_1 y given_permission_2 hay un claro desbalanceo de clases, mientras que el desbalanceo de clases en is_referral no es tan acusado. "
      ]
    },
    {
      "cell_type": "markdown",
      "id": "d587677e-b5da-4d99-b4c4-4ddb3bfe6a1f",
      "metadata": {
        "id": "d587677e-b5da-4d99-b4c4-4ddb3bfe6a1f"
      },
      "source": [
        "### Distribución de las variables numéricas"
      ]
    },
    {
      "cell_type": "code",
      "execution_count": null,
      "id": "89e62114-3b1f-4d60-b7db-65d0c787763e",
      "metadata": {
        "id": "89e62114-3b1f-4d60-b7db-65d0c787763e"
      },
      "outputs": [],
      "source": [
        "options(repr.plot.width = 6, repr.plot.height = 5)\n",
        "\n",
        "# first_payment_amount\n",
        "p1 <- ggplot(cust_churn_df, aes(x = first_payment_amount)) +\n",
        "      geom_histogram(bins = 15, fill = \"#d94c9f\", color = \"white\") +\n",
        "      labs(title = \"User’s first payment amount\",\n",
        "      subtitle = \"núm.bins = 15\", x = \"first_payment_amount\")\n",
        "b1 <- ggplot(data = cust_churn_df, aes(x = \"\", y = first_payment_amount)) +\n",
        "       stat_boxplot(geom = \"errorbar\" ,color = \"#3c0023\") +\n",
        "       geom_boxplot(fill = \"#d94c9f\",color = \"#3c0023\") +\n",
        "       coord_flip()\n",
        "grid.arrange(p1,b1)\n",
        "# age\n",
        "p2 <- ggplot(cust_churn_df, aes(x = age)) +\n",
        "      geom_histogram(bins = 15, fill = \"#d94c9f\", color = \"white\") +\n",
        "      labs(title = \"User's age\",\n",
        "      subtitle = \"núm.bins = 15\", x = \"age\")\n",
        "b2 <- ggplot(data = cust_churn_df, aes(x = \"\", y = age)) +\n",
        "       stat_boxplot(geom = \"errorbar\" ,color = \"#3c0023\") +\n",
        "       geom_boxplot(fill = \"#d94c9f\",color = \"#3c0023\") +\n",
        "       coord_flip()\n",
        "grid.arrange(p2,b2)\n",
        "\n",
        "# number_of_cards\n",
        "p3 <- ggplot(cust_churn_df, aes(x = number_of_cards)) +\n",
        "      geom_histogram(bins = 15, fill = \"#d94c9f\", color = \"white\") +\n",
        "      labs(title = \"Number of cards user owns\",\n",
        "      subtitle = \"núm.bins = 15\", x = \"number_of_cards\")\n",
        "b3 <- ggplot(data = cust_churn_df, aes(x = \"\", y = number_of_cards)) +\n",
        "       stat_boxplot(geom = \"errorbar\" ,color = \"#3c0023\") +\n",
        "       geom_boxplot(fill = \"#d94c9f\",color = \"#3c0023\") +\n",
        "       coord_flip()\n",
        "grid.arrange(p3,b3)\n",
        "\n",
        "# payments_initiated\n",
        "p4 <- ggplot(cust_churn_df, aes(x = payments_initiated)) +\n",
        "      geom_histogram(bins = 15, fill = \"#d94c9f\", color = \"white\") +\n",
        "      labs(title = \"Number of payments initiated by user\",\n",
        "      subtitle = \"núm.bins = 15\", x = \"payments_initiated\")\n",
        "b4 <- ggplot(data = cust_churn_df, aes(x = \"\", y = payments_initiated)) +\n",
        "       stat_boxplot(geom = \"errorbar\" ,color = \"#3c0023\") +\n",
        "       geom_boxplot(fill = \"#d94c9f\",color = \"#3c0023\") +\n",
        "       coord_flip()\n",
        "grid.arrange(p4,b4)\n",
        "\n",
        "# payments_failed\n",
        "p5 <- ggplot(cust_churn_df, aes(x = payments_failed)) +\n",
        "      geom_histogram(bins = 15, fill = \"#d94c9f\", color = \"white\") +\n",
        "      labs(title = \"Number of payments failed\",\n",
        "      subtitle = \"núm.bins = 15\", x = \"payments_failed\")\n",
        "b5 <- ggplot(data = cust_churn_df, aes(x = \"\", y = payments_failed)) +\n",
        "       stat_boxplot(geom = \"errorbar\" ,color = \"#3c0023\") +\n",
        "       geom_boxplot(fill = \"#d94c9f\",color = \"#3c0023\") +\n",
        "       coord_flip()\n",
        "grid.arrange(p5,b5)\n",
        "\n",
        "# payments_completed\n",
        "p6 <- ggplot(cust_churn_df, aes(x = payments_completed)) +\n",
        "       geom_histogram(bins = 15, fill = \"#d94c9f\", color = \"white\") +\n",
        "       labs(title = \"Number of payments completed\",\n",
        "       subtitle = \"núm.bins = 15\", x = \"payments_completed\")\n",
        "b6 <- ggplot(data = cust_churn_df, aes(x = \"\", y = payments_completed)) +\n",
        "       stat_boxplot(geom = \"errorbar\" ,color = \"#3c0023\") +\n",
        "       geom_boxplot(fill = \"#d94c9f\",color = \"#3c0023\") +\n",
        "       coord_flip()\n",
        "grid.arrange(p6,b6)\n",
        "\n",
        "# payments_completed_amount_first_7days\n",
        "p7 <- ggplot(cust_churn_df, aes(x = payments_completed_amount_first_7days)) +\n",
        "      geom_histogram(bins = 15, fill = \"#d94c9f\", color = \"white\") +\n",
        "      labs(title = \"Amount of payment completed in first 7 days of joining\",\n",
        "      subtitle = \"núm.bins = 15\", x = \"payments_completed_amount_first_7days\")\n",
        "b7 <- ggplot(data = cust_churn_df, aes(x = \"\", y = payments_completed_amount_first_7days)) +\n",
        "       stat_boxplot(geom = \"errorbar\" ,color = \"#3c0023\") +\n",
        "       geom_boxplot(fill = \"#d94c9f\",color = \"#3c0023\") +\n",
        "       coord_flip()\n",
        "grid.arrange(p7,b7)\n",
        "\n",
        "# reward_purchase_count_first_7days\n",
        "p8 <- ggplot(cust_churn_df, aes(x = reward_purchase_count_first_7days)) +\n",
        "      geom_histogram(bins = 15, fill = \"#d94c9f\", color = \"white\") +\n",
        "      labs(title = \"Number of rewards claimed in first 7 days\",\n",
        "      subtitle = \"núm.bins = 15\", x = \"reward_purchase_count_first_7days\")\n",
        "b8 <- ggplot(data = cust_churn_df, aes(x = \"\", y = reward_purchase_count_first_7days)) +\n",
        "       stat_boxplot(geom = \"errorbar\" ,color = \"#3c0023\") +\n",
        "       geom_boxplot(fill = \"#d94c9f\",color = \"#3c0023\") +\n",
        "       coord_flip()\n",
        "grid.arrange(p8,b8)\n",
        "\n",
        "# coins_redeemed_first_7days\n",
        "p9 <- ggplot(cust_churn_df, aes(x = coins_redeemed_first_7days)) +\n",
        "    geom_histogram(bins = 15, fill = \"#d94c9f\", color = \"white\") +\n",
        "    labs(title = \"Coins redeemed in first 7 days\",\n",
        "    subtitle = \"núm.bins = 15\", x = \"coins_redeemed_first_7days\")\n",
        "b9 <- ggplot(data = cust_churn_df, aes(x = \"\", y = coins_redeemed_first_7days)) +\n",
        "       stat_boxplot(geom = \"errorbar\" ,color = \"#3c0023\") +\n",
        "       geom_boxplot(fill = \"#d94c9f\",color = \"#3c0023\") +\n",
        "       coord_flip()\n",
        "grid.arrange(p9,b9)\n",
        "\n",
        "# visits_feature_1\n",
        "p10 <- ggplot(cust_churn_df, aes(x = visits_feature_1)) +\n",
        "    geom_histogram(bins = 15, fill = \"#d94c9f\", color = \"white\") +\n",
        "    labs(title = \"Number of visits made by user to product feature 1\",\n",
        "    subtitle = \"núm.bins = 15\", x = \"visits_feature_1\")\n",
        "b10 <- ggplot(data = cust_churn_df, aes(x = \"\", y = visits_feature_1)) +\n",
        "       stat_boxplot(geom = \"errorbar\" ,color = \"#3c0023\") +\n",
        "       geom_boxplot(fill = \"#d94c9f\",color = \"#3c0023\") +\n",
        "       coord_flip()\n",
        "grid.arrange(p10,b10)\n",
        "\n",
        "# visits_feature_2\n",
        "p11 <- ggplot(cust_churn_df, aes(x = visits_feature_2)) +\n",
        "    geom_histogram(bins = 15, fill = \"#d94c9f\", color = \"white\") +\n",
        "    labs(title = \"Number of visits made by user to product feature 2\",\n",
        "    subtitle = \"núm.bins = 15\", x = \"visits_feature_2\")\n",
        "b11 <- ggplot(data = cust_churn_df, aes(x = \"\", y = visits_feature_2)) +\n",
        "       stat_boxplot(geom = \"errorbar\" ,color = \"#3c0023\") +\n",
        "       geom_boxplot(fill = \"#d94c9f\",color = \"#3c0023\") +\n",
        "       coord_flip()\n",
        "grid.arrange(p11,b11)"
      ]
    },
    {
      "cell_type": "markdown",
      "id": "a8846448-ca9f-4461-bbe5-9690fc835186",
      "metadata": {
        "id": "a8846448-ca9f-4461-bbe5-9690fc835186"
      },
      "source": [
        "- Observamos un elevado número de outliers en todas las variables.\n",
        "- En la mayoría de ellas, sin limpiar los datos, es muy difícil ver que distribución tienen.\n",
        "- Podemos observar que la variable 'age' parece seguir una distribución normal. "
      ]
    },
    {
      "cell_type": "markdown",
      "id": "59ba5458-b1a3-4534-ac9f-f98922288490",
      "metadata": {
        "id": "59ba5458-b1a3-4534-ac9f-f98922288490"
      },
      "source": [
        "### Relación entre los atributos y la variable objetivo is_churned"
      ]
    },
    {
      "cell_type": "markdown",
      "id": "b81a1e9a-88a3-468e-a374-4a486552975c",
      "metadata": {
        "id": "b81a1e9a-88a3-468e-a374-4a486552975c"
      },
      "source": [
        "#### Relación entre las variables numéricas i is_churned "
      ]
    },
    {
      "cell_type": "code",
      "execution_count": null,
      "id": "2167dc02-2fc0-4af9-90c2-71c7aaca98b4",
      "metadata": {
        "tags": [],
        "id": "2167dc02-2fc0-4af9-90c2-71c7aaca98b4"
      },
      "outputs": [],
      "source": [
        "# lista con las variables numéricas\n",
        "num_vars <- c(\"first_payment_amount\", \n",
        "              \"age\", \n",
        "              \"number_of_cards\", \n",
        "              \"payments_initiated\", \n",
        "              \"payments_failed\", \n",
        "              \"payments_completed\", \n",
        "              \"payments_completed_amount_first_7days\", \n",
        "              \"reward_purchase_count_first_7days\",\n",
        "              \"coins_redeemed_first_7days\", \n",
        "              \"visits_feature_1\", \n",
        "              \"visits_feature_2\")\n",
        "\n",
        "# df con las variables numéricas y la variable target\n",
        "num_target_df <- cust_churn_df[, c(num_vars, \"is_churned\")]"
      ]
    },
    {
      "cell_type": "markdown",
      "id": "0bc8c936-9a73-409a-be9c-ab5002a09192",
      "metadata": {
        "id": "0bc8c936-9a73-409a-be9c-ab5002a09192"
      },
      "source": [
        "##### Violinplots"
      ]
    },
    {
      "cell_type": "code",
      "execution_count": null,
      "id": "ae84008d-d14d-4cdb-bf27-f68905da1188",
      "metadata": {
        "tags": [],
        "id": "ae84008d-d14d-4cdb-bf27-f68905da1188"
      },
      "outputs": [],
      "source": [
        "# Plot violin plots for each numerical variable and the target variable\n",
        "options(repr.plot.width = 7, repr.plot.height = 6)\n",
        "\n",
        "for (var in num_vars) {\n",
        "  print(ggplot(num_target_df, aes_string(x = \"is_churned\", y = var)) + \n",
        "    geom_violin() + \n",
        "    ggtitle(paste(\"Violin plot of\", var, \"by is_churned\")) +\n",
        "    xlab(\"is_churned\") + ylab(var) +\n",
        "    geom_violin(aes(fill = is_churned)) + \n",
        "    theme(legend.position=\"none\") +\n",
        "    geom_boxplot(width=.1) + stat_summary(fun=mean, geom=\"point\", shape=20, size=4, color=\"red\", fill=\"red\"))\n",
        "}\n"
      ]
    },
    {
      "cell_type": "markdown",
      "id": "196f3d77-d53b-45a5-80b4-0934bd6562b5",
      "metadata": {
        "id": "196f3d77-d53b-45a5-80b4-0934bd6562b5"
      },
      "source": [
        "- Podemos observar la distribución de cada variable numérica para los diferentes niveles (0 y 1) de la variable categórica objetivo (is_churned). \n",
        "- Podemos visualizar los outliers y comparar la media y la mediana de cada variable numérica respecto a cada nivel de la variable target."
      ]
    },
    {
      "cell_type": "markdown",
      "id": "c243c73c-1770-425a-8ecf-4b464e66deed",
      "metadata": {
        "id": "c243c73c-1770-425a-8ecf-4b464e66deed"
      },
      "source": [
        "##### Frequency polygon"
      ]
    },
    {
      "cell_type": "markdown",
      "id": "9769cc05-d4fc-4247-82f5-4fd0a830ff44",
      "metadata": {
        "id": "9769cc05-d4fc-4247-82f5-4fd0a830ff44"
      },
      "source": [
        "Un frequency polygon es un gráfico que se utiliza para mostrar la forma de la distribución de un conjunto de datos continuos. Se trata de un gráfico lineal de una distribución de frecuencias en el que las frecuencias se trazan frente a los puntos medios de los intervalos de clase. La forma del polígono muestra el patrón general de la distribución.\n",
        "\n",
        "En este caso, los polígonos de frecuencias se utilizan para visualizar la distribución de cada variable numérica en relación con la variable objetivo (is_churned). Los polígonos están coloreados por los niveles de la variable objetivo para visualizar cualquier diferencia en las distribuciones entre los dos niveles."
      ]
    },
    {
      "cell_type": "code",
      "execution_count": null,
      "id": "12114cd8-881b-4fc0-b267-a05e570bf742",
      "metadata": {
        "tags": [],
        "id": "12114cd8-881b-4fc0-b267-a05e570bf742"
      },
      "outputs": [],
      "source": [
        "options(repr.plot.width = 12, repr.plot.height = 8)\n",
        "\n",
        "# Plot frequency polygons for each numerical variable and the target variable\n",
        "for (var in num_vars) {\n",
        "    print(\n",
        "        ggplot(num_target_df, aes_string(x = var, color = 'is_churned')) + \n",
        "        geom_freqpoly(alpha = 0.8, size = 0.5, binwidth = 5) +\n",
        "        ggtitle(paste(\"Distribution of\", var, \"and is_churned\")) +\n",
        "        xlab(var)  +\n",
        "        scale_fill_manual(values = c(\"blue\", \"red\")) \n",
        "        # + xlim(0, max(num_target_df[[var]]))\n",
        "    )\n",
        "}"
      ]
    },
    {
      "cell_type": "markdown",
      "id": "c8a5ab8a-2701-48c0-8dc9-c57de6ba916c",
      "metadata": {
        "id": "c8a5ab8a-2701-48c0-8dc9-c57de6ba916c"
      },
      "source": [
        "##### Density plot"
      ]
    },
    {
      "cell_type": "markdown",
      "id": "17cb3258-8e50-4ca7-b1fe-9182d4187e10",
      "metadata": {
        "id": "17cb3258-8e50-4ca7-b1fe-9182d4187e10"
      },
      "source": [
        "- Creamos gráficos de densidad para cada variable numérica y la variable objetivo (is_churned). \n",
        "- Esto es útil para visualizar la distribución de cada variable numérica en relación con la variable objetivo y puede proporcionar información sobre los posibles predictores del churn."
      ]
    },
    {
      "cell_type": "code",
      "execution_count": null,
      "id": "06203593-3022-4c54-bea1-cc332c1427ab",
      "metadata": {
        "id": "06203593-3022-4c54-bea1-cc332c1427ab"
      },
      "outputs": [],
      "source": [
        "# Define color scheme\n",
        "color_scheme <- brewer.pal(9, \"Set1\")\n",
        "\n",
        "# Plot density plots for each numerical variable and the target variable\n",
        "for (var in num_vars) {\n",
        "  print(\n",
        "    ggplot(num_target_df, aes_string(x = var, fill = 'is_churned')) + \n",
        "    geom_density(alpha = 0.6) +\n",
        "    ggtitle(paste(\"Density plot of\", var, \"and is_churned\")) +\n",
        "    xlab(var) + ylab(\"Density\") +\n",
        "    scale_fill_manual(values = c(color_scheme[1], color_scheme[2])) +\n",
        "    theme_bw()\n",
        "  )\n",
        "}"
      ]
    },
    {
      "cell_type": "markdown",
      "id": "b339c160-07ab-4479-9618-7f5228915838",
      "metadata": {
        "id": "b339c160-07ab-4479-9618-7f5228915838"
      },
      "source": [
        "#### Relación entre las variables categóricas y is_churned "
      ]
    },
    {
      "cell_type": "markdown",
      "id": "0255e853-a757-40a0-9985-f91cfe52708e",
      "metadata": {
        "id": "0255e853-a757-40a0-9985-f91cfe52708e"
      },
      "source": [
        "##### is_referral, given_permission_1 y given_permission_2 vs is_churned"
      ]
    },
    {
      "cell_type": "markdown",
      "id": "4658f4c4-1731-4431-b14c-e1ce737f0596",
      "metadata": {
        "id": "4658f4c4-1731-4431-b14c-e1ce737f0596"
      },
      "source": [
        "Creamos gráficos de barras para cada variable categórica binaria del conjunto de datos y su relación con la variable objetivo \"is_churned\"."
      ]
    },
    {
      "cell_type": "code",
      "execution_count": null,
      "id": "eddb0135-bf60-407e-b440-d5091f5c993c",
      "metadata": {
        "id": "eddb0135-bf60-407e-b440-d5091f5c993c"
      },
      "outputs": [],
      "source": [
        "# lista con las variables categóricas binarias\n",
        "cat_binary_vars <- c('is_referral', 'given_permission_1', 'given_permission_2')\n",
        "\n",
        "# df con las variables categóricas binarias y la variable target\n",
        "cat_binary_target_df <- cust_churn_df[, c(cat_binary_vars, \"is_churned\")]"
      ]
    },
    {
      "cell_type": "code",
      "execution_count": null,
      "id": "81fa3b2b-1454-4484-81fe-6867e6d25faf",
      "metadata": {
        "id": "81fa3b2b-1454-4484-81fe-6867e6d25faf"
      },
      "outputs": [],
      "source": [
        "# Plot bar charts for each categorical variable and the target variable\n",
        "options(repr.plot.width = 5, repr.plot.height = 3)\n",
        "colors <- brewer.pal(9, \"Set1\")\n",
        "for (var in cat_binary_vars) {\n",
        "  print(ggplot(cat_binary_target_df, aes_string(x = var, fill = \"is_churned\")) + \n",
        "    geom_bar(position = \"dodge\") +\n",
        "    ggtitle(paste(\"Bar chart of\", var, \"and is_churned\")) +\n",
        "    xlab(var) + ylab(\"Count\") +\n",
        "    scale_fill_manual(values = colors))\n",
        "}"
      ]
    },
    {
      "cell_type": "markdown",
      "id": "466d6b6c-bb0f-427b-8868-4bd9b84526b7",
      "metadata": {
        "id": "466d6b6c-bb0f-427b-8868-4bd9b84526b7"
      },
      "source": [
        "- Los gráficos de barras resultantes muestran el recuento de cada variable categórica binaria y su relación con la variable objetivo.\n",
        "- Observamos que para las 3 variables categóricas binarias, parece que el hecho que haya churn o no sí afecta. "
      ]
    },
    {
      "cell_type": "markdown",
      "id": "8c726de4-4243-466c-9967-12af5c3f7d21",
      "metadata": {
        "id": "8c726de4-4243-466c-9967-12af5c3f7d21"
      },
      "source": [
        "##### Device vs is_churned"
      ]
    },
    {
      "cell_type": "code",
      "execution_count": null,
      "id": "537165ea-1273-4601-9319-a863bc4a15f2",
      "metadata": {
        "id": "537165ea-1273-4601-9319-a863bc4a15f2"
      },
      "outputs": [],
      "source": [
        "# Get the top 10 devices in descending order of count\n",
        "top_devices <- cust_churn_df %>%\n",
        "  count(device) %>%\n",
        "  arrange(desc(n)) %>%\n",
        "  head(10) %>%\n",
        "  pull(device)\n",
        "\n",
        "# Filter the data to include only the top 6 devices\n",
        "cust_churn_top10 <- cust_churn_df %>%\n",
        "  filter(device %in% top_devices)\n",
        "\n",
        "# subset device and is_churned\n",
        "cust_churn_top10_df <- cust_churn_top10 %>%\n",
        "  dplyr::select(device, is_churned)\n",
        "\n",
        "# Create a bar plot of the top 6 devices in descending order of count\n",
        "options(repr.plot.width = 10, repr.plot.height = 3)\n",
        "\n",
        "ggplot(cust_churn_top10_df, aes(x = fct_infreq(device), fill = is_churned)) +\n",
        "  geom_bar(position=\"dodge\") +\n",
        "  labs(title = \"Top 10 Device Distribution\", x = \"Device\", y = \"Count\", fill = \"is_churned\")"
      ]
    },
    {
      "cell_type": "markdown",
      "id": "7daec875-1f3f-4178-b50f-524a364ef243",
      "metadata": {
        "id": "7daec875-1f3f-4178-b50f-524a364ef243"
      },
      "source": [
        "- Parece ser que, en términos relativos, 'vivo' encabeza el número de abandonos. "
      ]
    },
    {
      "cell_type": "markdown",
      "id": "5f2ce8ee-15d2-4cae-8224-58d267b5ce1e",
      "metadata": {
        "id": "5f2ce8ee-15d2-4cae-8224-58d267b5ce1e"
      },
      "source": [
        "##### City vs is_churned"
      ]
    },
    {
      "cell_type": "code",
      "execution_count": null,
      "id": "2820860d-fa36-4fdc-977c-fc8a6a70fba1",
      "metadata": {
        "id": "2820860d-fa36-4fdc-977c-fc8a6a70fba1"
      },
      "outputs": [],
      "source": [
        "# Get the top 10 cities in descending order of count\n",
        "top_cities <- cust_churn_df %>%\n",
        "  count(city) %>%\n",
        "  arrange(desc(n)) %>%\n",
        "  head(10) %>%\n",
        "  pull(city)\n",
        "\n",
        "# Filter the data to include only the top 6 devices\n",
        "cust_churn_top5 <- cust_churn_df %>%\n",
        "  filter(city %in% top_cities)\n",
        "\n",
        "# subset device and is_churned\n",
        "city_churn_top10_df <- cust_churn_top5 %>% dplyr::select(city, is_churned)\n",
        "\n",
        "# Create a bar plot of the top 5 cities in descending order of count\n",
        "ggplot(city_churn_top10_df, aes(x = fct_infreq(city), fill = is_churned)) +\n",
        "  geom_bar(position=\"dodge\") +\n",
        "  labs(title = \"Top 10 City Distribution\", x = \"City\", y = \"Count\", fill = \"Is churned?\")"
      ]
    },
    {
      "cell_type": "markdown",
      "id": "1cea8faa-81e5-467c-a117-f552f8ba9847",
      "metadata": {
        "id": "1cea8faa-81e5-467c-a117-f552f8ba9847"
      },
      "source": [
        "- Observamos que en 'Surat' hay más usuarios que hacen churn que los que permanecen. "
      ]
    },
    {
      "cell_type": "markdown",
      "id": "722c7272-b441-44a0-8a52-7f0c7f673f2a",
      "metadata": {
        "id": "722c7272-b441-44a0-8a52-7f0c7f673f2a"
      },
      "source": [
        "## Tratamiento de valores nulos"
      ]
    },
    {
      "cell_type": "markdown",
      "id": "cb42eee2-b2b0-4785-8ba6-db646f1a2d3b",
      "metadata": {
        "id": "cb42eee2-b2b0-4785-8ba6-db646f1a2d3b"
      },
      "source": [
        "Mostramos las variables que contienen valores nulos y la cantidad de valores nulos:"
      ]
    },
    {
      "cell_type": "code",
      "execution_count": null,
      "id": "daa316e6-e1cf-4dfa-b3df-66b0d8146d48",
      "metadata": {
        "id": "daa316e6-e1cf-4dfa-b3df-66b0d8146d48"
      },
      "outputs": [],
      "source": [
        "# select only columns with NA values\n",
        "na_cols <- cust_churn_df[, colSums(is.na(cust_churn_df)) > 0]\n",
        "\n",
        "# count NA values in each selected column\n",
        "na_counts <- colSums(is.na(na_cols))\n",
        "\n",
        "# print the number of NA values and variable names with NA values\n",
        "for (i in seq_along(na_counts)) {\n",
        "  cat(sprintf(\"Variable %s has %d NA values\\n\", names(na_counts)[i], na_counts[i]))\n",
        "}"
      ]
    },
    {
      "cell_type": "code",
      "execution_count": null,
      "id": "8e69bbbe-aa04-408e-a661-26f4bd2f83a3",
      "metadata": {
        "id": "8e69bbbe-aa04-408e-a661-26f4bd2f83a3"
      },
      "outputs": [],
      "source": [
        "cust_churn_df %>% \n",
        "  dplyr::select(num_vars) %>% \n",
        "  miss_var_summary()"
      ]
    },
    {
      "cell_type": "markdown",
      "id": "2070c98b-052d-44d9-b4f1-14428ef68135",
      "metadata": {
        "id": "2070c98b-052d-44d9-b4f1-14428ef68135"
      },
      "source": [
        "- El 22.34% de los valores de reward_purchase_count_first_7days son NA values, mientras que first_payment_amount no presenta NA values. "
      ]
    },
    {
      "cell_type": "code",
      "execution_count": null,
      "id": "aaa9ec45-193b-4163-9d4c-f206b6b3fca0",
      "metadata": {
        "id": "aaa9ec45-193b-4163-9d4c-f206b6b3fca0"
      },
      "outputs": [],
      "source": [
        "num_vars_na<- c(\n",
        "              \"age\", \n",
        "              \"number_of_cards\", \n",
        "              \"payments_initiated\", \n",
        "              \"payments_failed\", \n",
        "              \"payments_completed\", \n",
        "              \"payments_completed_amount_first_7days\", \n",
        "              \"reward_purchase_count_first_7days\",\n",
        "              \"coins_redeemed_first_7days\", \n",
        "              \"visits_feature_1\", \n",
        "              \"visits_feature_2\")\n",
        "num_df <- cust_churn_df[, c(num_vars_na)]"
      ]
    },
    {
      "cell_type": "code",
      "execution_count": null,
      "id": "9de8dfd6-bd4c-4174-a19a-42807a5d8f62",
      "metadata": {
        "id": "9de8dfd6-bd4c-4174-a19a-42807a5d8f62"
      },
      "outputs": [],
      "source": [
        "# Another approach to visualising the missings in a dataset is to use the gg_miss_var plot:\n",
        "options(repr.plot.width = 10, repr.plot.height = 3)\n",
        "\n",
        "gg_miss_var(num_df)"
      ]
    },
    {
      "cell_type": "markdown",
      "id": "42e8efc4-3702-4184-8e0a-f4dffb500244",
      "metadata": {
        "id": "42e8efc4-3702-4184-8e0a-f4dffb500244"
      },
      "source": [
        "- Observamos que reward_purchase_count_first_7days es la variable con más NA values (23264), seguida de visits_feature_1 y visits_feature_2, con 2646 NA values cada una. "
      ]
    },
    {
      "cell_type": "code",
      "execution_count": null,
      "id": "9a8027b4-a082-411c-81b6-4e2b1a2b04da",
      "metadata": {
        "id": "9a8027b4-a082-411c-81b6-4e2b1a2b04da"
      },
      "outputs": [],
      "source": [
        "# Echamos un vistazo a la distribución de los NA values\n",
        "options(repr.plot.width = 20, repr.plot.height = 20)\n",
        "md.pattern(num_df)"
      ]
    },
    {
      "cell_type": "markdown",
      "id": "027cd05e-0a2b-4c03-a233-dfc11a79a600",
      "metadata": {
        "id": "027cd05e-0a2b-4c03-a233-dfc11a79a600"
      },
      "source": [
        "- Podemos observar la distribución de los NA values.\n",
        "- Los NA values de la variable 'edad' se sitúan en las últimas filas de la columna. "
      ]
    },
    {
      "cell_type": "code",
      "execution_count": null,
      "id": "3e4d26d9-d1f7-49f6-9a58-70b1fef1e2a3",
      "metadata": {
        "id": "3e4d26d9-d1f7-49f6-9a58-70b1fef1e2a3"
      },
      "outputs": [],
      "source": [
        "md.pairs(num_df)"
      ]
    },
    {
      "cell_type": "markdown",
      "id": "5ae74a2f-4479-4e4b-a9bf-b8d011c2f7d0",
      "metadata": {
        "id": "5ae74a2f-4479-4e4b-a9bf-b8d011c2f7d0"
      },
      "source": [
        "Por tanto, deberemos tratar los valores nulos de estas variables."
      ]
    },
    {
      "cell_type": "markdown",
      "id": "4f255b52-e5e3-42ff-8a58-007bd6b7ed28",
      "metadata": {
        "id": "4f255b52-e5e3-42ff-8a58-007bd6b7ed28"
      },
      "source": [
        "### Deletion and multiple imputation "
      ]
    },
    {
      "cell_type": "markdown",
      "id": "798c9158-2880-45fc-9e14-9357b98fd0de",
      "metadata": {
        "id": "798c9158-2880-45fc-9e14-9357b98fd0de"
      },
      "source": [
        "Para tratar los NA values, utilizaremos 2 técnicas:\n",
        "- Eliminación\n",
        "- Imputación múltiple"
      ]
    },
    {
      "cell_type": "markdown",
      "id": "7e672020-d112-48e5-807f-10e97b4823f0",
      "metadata": {
        "tags": [],
        "id": "7e672020-d112-48e5-807f-10e97b4823f0"
      },
      "source": [
        "#### Eliminación"
      ]
    },
    {
      "cell_type": "markdown",
      "id": "ff9fbdc7-f58d-4db1-9d1f-9fda618545d3",
      "metadata": {
        "id": "ff9fbdc7-f58d-4db1-9d1f-9fda618545d3"
      },
      "source": [
        "Como en la variable 'age' el número de filas con valores nulos es relativamente pequeño en comparación con el tamaño del dataset, simplemente eliminamos esas filas. \n",
        "- Tenemos 142 filas con valores nulos de un total de 104143 filas, por lo que éste podría ser un enfoque razonable (estaríamos eliminando un 0.13% del total de filas del dataset)."
      ]
    },
    {
      "cell_type": "code",
      "execution_count": null,
      "id": "3bbc0111-9a4d-465d-a0be-07bd28ec8902",
      "metadata": {
        "id": "3bbc0111-9a4d-465d-a0be-07bd28ec8902"
      },
      "outputs": [],
      "source": [
        "# filas \n",
        "length(cust_churn_df$age)"
      ]
    },
    {
      "cell_type": "code",
      "execution_count": null,
      "id": "f01cda42-f3c8-45aa-b0e0-da7142746348",
      "metadata": {
        "id": "f01cda42-f3c8-45aa-b0e0-da7142746348"
      },
      "outputs": [],
      "source": [
        "# NA values \n",
        "sum(is.na(cust_churn_df$age))"
      ]
    },
    {
      "cell_type": "code",
      "execution_count": null,
      "id": "afce9590-ca40-47a2-858f-0da76382acf3",
      "metadata": {
        "id": "afce9590-ca40-47a2-858f-0da76382acf3"
      },
      "outputs": [],
      "source": [
        "# Create a copy of the cust_churn_df data frame\n",
        "cust_churn_clean_df <- data.frame(cust_churn_df) "
      ]
    },
    {
      "cell_type": "code",
      "execution_count": null,
      "id": "2accadbe-a137-4d91-b028-b16b06e2dc7b",
      "metadata": {
        "id": "2accadbe-a137-4d91-b028-b16b06e2dc7b"
      },
      "outputs": [],
      "source": [
        "tracemem(cust_churn_df) == tracemem(cust_churn_clean_df)"
      ]
    },
    {
      "cell_type": "markdown",
      "id": "63bcc3cd-6f2b-405a-a3ee-d778036f1142",
      "metadata": {
        "id": "63bcc3cd-6f2b-405a-a3ee-d778036f1142"
      },
      "source": [
        "- Esto creará un dataset llamado cust_churn_clean_df que es idéntico a cust_churn_df, pero cualquier cambio realizado en un dataset no afectará al otro.\n",
        "\n",
        "- El nuevo dataset tiene la misma estructura y contenido que cust_churn_df, pero es un objeto completamente independiente en memoria. \n",
        "\n"
      ]
    },
    {
      "cell_type": "code",
      "execution_count": null,
      "id": "5a4c1348-52cb-4291-b353-7898ddf58ce4",
      "metadata": {
        "id": "5a4c1348-52cb-4291-b353-7898ddf58ce4"
      },
      "outputs": [],
      "source": [
        "sum(is.na(cust_churn_clean_df))\n",
        "sum(is.na(cust_churn_clean_df$age))"
      ]
    },
    {
      "cell_type": "code",
      "execution_count": null,
      "id": "3e642d0a-0a6e-4650-bb3e-1b696ac3b1fc",
      "metadata": {
        "id": "3e642d0a-0a6e-4650-bb3e-1b696ac3b1fc"
      },
      "outputs": [],
      "source": [
        "# remove rows with null values for the \"age\" variable\n",
        "cust_churn_clean_df <- cust_churn_clean_df[!is.na(cust_churn_clean_df$age), ]\n",
        "# check the number of rows with null values for the \"age\" variable\n",
        "sum(is.na(cust_churn_clean_df$age))"
      ]
    },
    {
      "cell_type": "markdown",
      "id": "c596508a-b6dc-4ff4-b1be-ae17c94c3455",
      "metadata": {
        "id": "c596508a-b6dc-4ff4-b1be-ae17c94c3455"
      },
      "source": [
        "- Ya no tenemos valores NA en la variable 'age'."
      ]
    },
    {
      "cell_type": "code",
      "execution_count": null,
      "id": "5b86339d-010a-48cd-8aab-af980050bd82",
      "metadata": {
        "id": "5b86339d-010a-48cd-8aab-af980050bd82"
      },
      "outputs": [],
      "source": [
        "# before removing NA's\n",
        "summary(cust_churn_df$age)"
      ]
    },
    {
      "cell_type": "code",
      "execution_count": null,
      "id": "31efe63c-a0ad-4bc2-9534-eb3cb6ba295c",
      "metadata": {
        "tags": [],
        "id": "31efe63c-a0ad-4bc2-9534-eb3cb6ba295c"
      },
      "outputs": [],
      "source": [
        "# after removing NA's\n",
        "summary(cust_churn_clean_df$age)"
      ]
    },
    {
      "cell_type": "code",
      "execution_count": null,
      "id": "aa8b5ff7-cdf9-41a5-a46e-ae6dbd4a5e24",
      "metadata": {
        "id": "aa8b5ff7-cdf9-41a5-a46e-ae6dbd4a5e24"
      },
      "outputs": [],
      "source": [
        "dim(cust_churn_clean_df)"
      ]
    },
    {
      "cell_type": "markdown",
      "id": "d2306df2-f854-46e4-90c2-2b4f5ef047d6",
      "metadata": {
        "id": "d2306df2-f854-46e4-90c2-2b4f5ef047d6"
      },
      "source": [
        "- Hemos eliminado 142 filas del dataset."
      ]
    },
    {
      "cell_type": "markdown",
      "id": "fb7b399c-7335-47e1-a0cd-1ec7b83e5a60",
      "metadata": {
        "id": "fb7b399c-7335-47e1-a0cd-1ec7b83e5a60"
      },
      "source": [
        "#### Multiple imputation"
      ]
    },
    {
      "cell_type": "markdown",
      "id": "6be68b86-e03f-4442-93f1-1ed5c4561e3a",
      "metadata": {
        "id": "6be68b86-e03f-4442-93f1-1ed5c4561e3a"
      },
      "source": [
        "- La imputación múltiple es una técnica estadística utilizada para tratar los NA values en un dataset imputando o sustituyendo los NA values por valores estimados basados en la información disponible en el dataset. \n",
        "\n",
        "- Esta técnica implica la creación de múltiples copias del dataset, donde los NA values se imputan con valores plausibles varias veces, generando una distribución de valores plausibles para cada NA value. \n",
        "\n",
        "- La imputación múltiple es una técnica útil, ya que puede ayudar a reducir el sesgo y aumentar la accuracy de los análisis estadísticos cuando faltan datos [4]."
      ]
    },
    {
      "cell_type": "markdown",
      "id": "fd83a5db-1e33-4cf1-a0d5-cd485e2e3522",
      "metadata": {
        "id": "fd83a5db-1e33-4cf1-a0d5-cd485e2e3522"
      },
      "source": [
        "Además, la imputación múltiple ofrece varias ventajas con respecto a la simple eliminación o imputación de la media o mediana de los NA values [5]:\n",
        "\n",
        "- Conserva más información: al crear imputaciones múltiples basadas en los datos observados, la imputación múltiple conserva más de la variabilidad original y de las relaciones entre las variables del dataset que otros métodos.\n",
        "\n",
        "- Proporciona estimaciones más precisas: la imputación múltiple puede producir estimaciones de parámetros más precisas que los métodos de imputación única, que pueden subestimar la varianza y dar lugar a estimaciones sesgadas.\n",
        "\n",
        "- Produce inferencias estadísticas válidas: la imputación múltiple puede mejorar la validez de las inferencias estadísticas al tener en cuenta la incertidumbre introducida por los datos que faltan. Esto puede ayudar a evitar el sesgo y las conclusiones incorrectas a causa de ignorar los datos que faltan.\n",
        "\n",
        "- Reduce el sesgo y aumenta la potencia: la imputación múltiple puede reducir el sesgo y aumentar la potencia estadística al utilizar la información disponible para hacer predicciones más precisas de los datos que faltan.\n",
        "\n",
        "En general, la imputación múltiple es un método más flexible y sólido para tratar los datos que faltan que ofrece varias ventajas sobre métodos más sencillos como la eliminación o la imputación de la media o la mediana."
      ]
    },
    {
      "cell_type": "markdown",
      "id": "cb3564a0-39f0-4b9f-8469-3623df9de51a",
      "metadata": {
        "id": "cb3564a0-39f0-4b9f-8469-3623df9de51a"
      },
      "source": [
        "Por tanto, aplicaremos la imputación múltiple a las siguientes variables:\n",
        "- number_of_cards, payments_initiated, payments_failed, payments_completed, payments_completed_amount_first_7days y coins_redeemed_first_7days: tienen 472 valores NA (cantidad moderada de NA values).\n",
        "\n",
        "- reward_purchase_count_first_7days: tiene 23264 NA values (cantidad de NA values relativamente grande).\n",
        "\n",
        "- visits_feature_1 y visits_feature_2: tienen 2646 valores NA (cantidad moderada de NA values)."
      ]
    },
    {
      "cell_type": "code",
      "execution_count": null,
      "id": "6412f2cf-8bce-42d9-ad2c-5a183812be51",
      "metadata": {
        "id": "6412f2cf-8bce-42d9-ad2c-5a183812be51"
      },
      "outputs": [],
      "source": [
        "# create a vector of variable names to be imputed\n",
        "vars_to_impute <- c(\n",
        "              \"number_of_cards\", \n",
        "              \"payments_initiated\", \n",
        "              \"payments_failed\", \n",
        "              \"payments_completed\", \n",
        "              \"payments_completed_amount_first_7days\", \n",
        "              \"reward_purchase_count_first_7days\",\n",
        "              \"coins_redeemed_first_7days\", \n",
        "              \"visits_feature_1\", \n",
        "              \"visits_feature_2\")\n",
        "\n",
        "# create the imputation model using mice()\n",
        "impute_model <- mice(cust_churn_clean_df[,vars_to_impute], m = 5, method = \"pmm\", seed = 123)\n",
        "\n",
        "# impute the missing values using complete()\n",
        "imputed_data <- complete(impute_model)"
      ]
    },
    {
      "cell_type": "code",
      "execution_count": null,
      "id": "de4dbeb0-c1a5-44d8-a5bb-75fa9806531d",
      "metadata": {
        "id": "de4dbeb0-c1a5-44d8-a5bb-75fa9806531d"
      },
      "outputs": [],
      "source": [
        "head(imputed_data, 3)"
      ]
    },
    {
      "cell_type": "code",
      "execution_count": null,
      "id": "58cd2d23-00d4-41ce-957f-000f81893328",
      "metadata": {
        "id": "58cd2d23-00d4-41ce-957f-000f81893328"
      },
      "outputs": [],
      "source": [
        "summary(imputed_data)\n",
        "message()\n",
        "dim(imputed_data)\n",
        "message()\n",
        "sum(is.na(imputed_data))"
      ]
    },
    {
      "cell_type": "code",
      "execution_count": null,
      "id": "2081dfc4-a225-4529-b4e1-83f0bb12b6a6",
      "metadata": {
        "id": "2081dfc4-a225-4529-b4e1-83f0bb12b6a6"
      },
      "outputs": [],
      "source": [
        "# añadimos las variables a las que les hemos aplicado la multiple imputation al df limpio de NA values\n",
        "for (var in vars_to_impute) {\n",
        "    cust_churn_clean_df[[var]] <- imputed_data[[var]] \n",
        "}"
      ]
    },
    {
      "cell_type": "code",
      "execution_count": null,
      "id": "79b3e648-d2cd-4555-a150-9e994854039f",
      "metadata": {
        "id": "79b3e648-d2cd-4555-a150-9e994854039f"
      },
      "outputs": [],
      "source": [
        "sum(is.na(cust_churn_clean_df))"
      ]
    },
    {
      "cell_type": "markdown",
      "id": "b0dd14c9-87b7-41ea-b56e-420120620b4f",
      "metadata": {
        "id": "b0dd14c9-87b7-41ea-b56e-420120620b4f"
      },
      "source": [
        "- Ya no tenemos ningún NA value en nuestro dataset.\n",
        "- Tenemos un dataset totalmente limpio."
      ]
    },
    {
      "cell_type": "code",
      "execution_count": null,
      "id": "a6923c84-c63c-4c1b-ba89-1f515aa57b89",
      "metadata": {
        "id": "a6923c84-c63c-4c1b-ba89-1f515aa57b89"
      },
      "outputs": [],
      "source": [
        "dim(cust_churn_clean_df)"
      ]
    },
    {
      "cell_type": "markdown",
      "id": "539721c3-b6bc-4e63-8bcd-9c6900e73cf0",
      "metadata": {
        "id": "539721c3-b6bc-4e63-8bcd-9c6900e73cf0"
      },
      "source": [
        "- Recordemos que solo hemos borrado 142 filas de un total de 104143."
      ]
    },
    {
      "cell_type": "code",
      "execution_count": null,
      "id": "4dc5ee9e-b5c0-4fb6-a431-693c0633e765",
      "metadata": {
        "id": "4dc5ee9e-b5c0-4fb6-a431-693c0633e765"
      },
      "outputs": [],
      "source": [
        "head(cust_churn_clean_df)"
      ]
    },
    {
      "cell_type": "markdown",
      "id": "d1b593f6-336d-43d2-a7df-2f639417cd90",
      "metadata": {
        "id": "d1b593f6-336d-43d2-a7df-2f639417cd90"
      },
      "source": [
        "## Correlation Analysis"
      ]
    },
    {
      "cell_type": "markdown",
      "id": "8e9ecbd6-2a53-4c95-8235-207182ee5ff0",
      "metadata": {
        "id": "8e9ecbd6-2a53-4c95-8235-207182ee5ff0"
      },
      "source": [
        "- Primero realizaremos un análisis de correlaciones. \n",
        "- El análisis de correlación nos puede ayudar a identificar las variables que están significativamente asociadas con la variable objetivo is_churned.\n",
        "- Esto nos ayudará seleccionar las variables más relevantes para incluirlas en el modelo de regresión logística."
      ]
    },
    {
      "cell_type": "markdown",
      "id": "cab4a6ca-abe0-474d-919a-6fe8af6580bb",
      "metadata": {
        "id": "cab4a6ca-abe0-474d-919a-6fe8af6580bb"
      },
      "source": [
        "### Correlación entre variables numéricas y la variable objetivo categórica is_churned"
      ]
    },
    {
      "cell_type": "markdown",
      "id": "ec066427-8bf5-4170-86ab-73c228fc5ab1",
      "metadata": {
        "id": "ec066427-8bf5-4170-86ab-73c228fc5ab1"
      },
      "source": [
        "La correlación biserial mide la fuerza de la asociación entre una variable continua y una binaria, en este caso entre cada variable numérica y la variable categórica objetivo is_churned.\n"
      ]
    },
    {
      "cell_type": "code",
      "execution_count": null,
      "id": "fcad0ffc-0d9c-4ac3-986b-0f66e4a25b05",
      "metadata": {
        "id": "fcad0ffc-0d9c-4ac3-986b-0f66e4a25b05"
      },
      "outputs": [],
      "source": [
        "# Select only numerical variables\n",
        "numerical_vars <- c(\"first_payment_amount\", \"age\", \"number_of_cards\", \"payments_initiated\", \"payments_failed\",\n",
        "                    \"payments_completed\", \"payments_completed_amount_first_7days\", \"reward_purchase_count_first_7days\",\n",
        "                    \"coins_redeemed_first_7days\", \"visits_feature_1\", \"visits_feature_2\")\n",
        "\n",
        "df_num <- cust_churn_clean_df[numerical_vars]\n",
        "\n",
        "# create an empty vector to store the results\n",
        "correlations <- c()\n",
        "\n",
        "# loop through each numerical variable and calculate the biserial correlation\n",
        "for (var in colnames(df_num)) {\n",
        "  # calculate biserial correlation between the current variable and the target variable\n",
        "  cor <- biserial.cor(df_num[[var]], cust_churn_clean_df$is_churned)\n",
        "  correlations <- c(correlations, cor)\n",
        "}\n",
        "\n",
        "# print the results\n",
        "cor_var <- data.frame(variable = colnames(df_num), correlation = correlations)\n",
        "cor_var"
      ]
    },
    {
      "cell_type": "markdown",
      "id": "9e94c07b-ecac-4a05-89fd-984982a7bad9",
      "metadata": {
        "id": "9e94c07b-ecac-4a05-89fd-984982a7bad9"
      },
      "source": [
        "- Observando los resultados, podemos ver que varias de las variables numéricas tienen una correlación positiva con la variable objetivo is_churned, lo que indica que a medida que estas variables aumentan, la probabilidad de que un cliente abandone también aumenta. Estas variables son: first_payment_amount, number_of_cards, payments_initiated, payments_completed_amount_first_7days, reward_purchase_count_first_7days y coins_redeemed_first_7days.\n",
        "\n",
        "- Por otro lado, podemos ver que la edad tiene una correlación negativa con is_churned, lo que sugiere que, a medida que los clientes envejecen, es menos probable que hagan churn. \n",
        "\n",
        "- payments_failed y visits_feature_2 tienen la menor correlación con is_churned, lo que indica que están débilmente asociadas con la variable objetivo.\n",
        "\n",
        "En conclusión, el análisis de correlación biserial proporciona información útil sobre la relación entre las variables numéricas y la variable categórica objetivo is_churned, y puede ayudar a identificar qué variables pueden ser las más importantes para predecir el abandono de los clientes. Sin embargo, es importante señalar que la correlación no implica necesariamente causalidad, por lo que se necesitan más análisis para confirmar estas relaciones y establecer la causalidad."
      ]
    },
    {
      "cell_type": "markdown",
      "id": "c1fa59b7-9fe4-4e4d-8818-89894b70664d",
      "metadata": {
        "id": "c1fa59b7-9fe4-4e4d-8818-89894b70664d"
      },
      "source": [
        "### Asociación entre variables categóricas y la variable objetivo categórica is_churned"
      ]
    },
    {
      "cell_type": "markdown",
      "id": "e0e33609-b8bd-4775-983f-2f1d99143f97",
      "metadata": {
        "id": "e0e33609-b8bd-4775-983f-2f1d99143f97"
      },
      "source": [
        "- Dado que tenemos variables categóricas, no podemos calcular una correlación entre ellas y la variable objetivo is_churned. En su lugar, podemos utilizar la prueba chi-squared para determinar si existe una asociación estadísticamente significativa entre cada variable categórica y is_churned. \n",
        "\n",
        "- Este test mide el grado de dependencia entre las dos variables categóricas. El test calcula un estadístico chi-squared y un p-value que indica la probabilidad de observar un resultado tan extremo o más extremo que el observado, suponiendo que la hipótesis nula es cierta (es decir, no hay asociación entre las dos variables)."
      ]
    },
    {
      "cell_type": "code",
      "execution_count": null,
      "id": "1861e1a2-e1d3-439f-813e-843293eafe75",
      "metadata": {
        "id": "1861e1a2-e1d3-439f-813e-843293eafe75"
      },
      "outputs": [],
      "source": [
        "# Select only categorical variables\n",
        "cat_vars <- c('device', 'city', 'is_referral', 'given_permission_1', 'given_permission_2')\n",
        "# binary_cat_vars <- c('is_referral', 'given_permission_1', 'given_permission_2')\n",
        "\n",
        "df_cat <- cust_churn_clean_df[cat_vars]"
      ]
    },
    {
      "cell_type": "code",
      "execution_count": null,
      "id": "64a54f92-b51c-480b-a7db-b96e74175d4b",
      "metadata": {
        "id": "64a54f92-b51c-480b-a7db-b96e74175d4b"
      },
      "outputs": [],
      "source": [
        "# Calculate chi-square test of independence for each variable\n",
        "cat_var_cor <- sapply(cust_churn_clean_df[cat_vars], function(x) {\n",
        "  chisq.test(table(x, cust_churn_clean_df$is_churned))$statistic\n",
        "})\n",
        "\n",
        "# Calculate p-value for each variable\n",
        "cat_var_pval <- sapply(cat_var_cor, function(x) {\n",
        "  pvalue <- pchisq(x, df = 1, lower.tail = FALSE)\n",
        "  return(pvalue)\n",
        "})\n",
        "\n",
        "# Combine test statistics and p-values into a data frame\n",
        "cat_var_cor_df <- data.frame(variable = names(cat_var_cor), chi_square_statistic = cat_var_cor, p_value = cat_var_pval)\n",
        "\n",
        "cat_var_cor_df\n"
      ]
    },
    {
      "cell_type": "markdown",
      "id": "5cc2c8e9-a361-4bb9-b255-64a423221a23",
      "metadata": {
        "id": "5cc2c8e9-a361-4bb9-b255-64a423221a23"
      },
      "source": [
        "- Podemos ver que el estadístico chi-cuadrado más alto es para \"city\" (seguido de \"device\"), lo que indica una asociación más fuerte con la variable objetivo \"is_churned\" en comparación con las otras variables categóricas. Sin embargo, también debemos comprobar el p-value de cada prueba para determinar si la asociación es estadísticamente significativa al nivel de significación deseado.\n",
        "\n",
        "- Podemos ver que todos los p-values son inferiores a 0.05, lo que indica una relación estadísticamente significativa entre cada una de las variables categóricas y la variable objetivo 'is_churned'.\n",
        "\n",
        "- Nota: el warning indica que la aproximación chi-cuadrado utilizada en la prueba puede no ser exacta debido al tamaño de los datos o a la distribución de las variables. Se trata de un problema habitual cuando se utilizan pruebas de chi-cuadrado con conjuntos de datos de gran tamaño.\n"
      ]
    },
    {
      "cell_type": "markdown",
      "id": "5737514d-ad0d-4475-8bfc-449c57dccd13",
      "metadata": {
        "id": "5737514d-ad0d-4475-8bfc-449c57dccd13"
      },
      "source": [
        "## Mutual information"
      ]
    },
    {
      "cell_type": "markdown",
      "id": "a7c7d3a6-76ed-4e3d-86f9-3b4c8ee2ec64",
      "metadata": {
        "id": "a7c7d3a6-76ed-4e3d-86f9-3b4c8ee2ec64"
      },
      "source": [
        "- Esta prueba mide la dependencia mutua entre dos variables, ya sean continuas o categóricas. \n",
        "- A diferencia de la correlación, la información mutua puede captar relaciones no lineales entre variables. \n",
        "- Es una prueba útil para identificar predictores potenciales que tengan una fuerte asociación con la variable objetivo. \n",
        "- Además, puede ayudar a identificar términos de interacción relevantes (combinaciones de dos o más predictores) que pueden tener un fuerte impacto en la variable objetivo. \n",
        "- Por lo tanto, el uso de la información mutua puede ayudarnos a construir un modelo de regresión logística más preciso y sólido."
      ]
    },
    {
      "cell_type": "markdown",
      "id": "22f807ae-b357-4a8b-9612-5170b7bb83e5",
      "metadata": {
        "id": "22f807ae-b357-4a8b-9612-5170b7bb83e5"
      },
      "source": [
        "- Las variables más importantes serán aquellas que aporten más entropía a nuestro dataset. \n",
        "- Como más entropía, más importancia. "
      ]
    },
    {
      "cell_type": "markdown",
      "id": "50d89d21-51e1-4fad-85e5-39906f05af9b",
      "metadata": {
        "id": "50d89d21-51e1-4fad-85e5-39906f05af9b"
      },
      "source": [
        "**Information Gain Algorithms**:\n",
        "\n",
        "Con tal de ver la información mutua entre el target y las covariables se aplican los tres algoritmos detallados a continuación:\n",
        "\n",
        "- \"infogain\" : ${H(Class)} + H(Attribute) − H(Class, Attribute)$\n",
        "    - Este es el tipo de ganancia de información más utilizado. \n",
        "    - Se basa en la diferencia entre la entropía de la variable objetivo y la entropía condicional de la variable objetivo dada la variable predictora.\n",
        "\n",
        "- \"gainratio\" : $H(Class) + H(Attribute) − H(Class, Attribute) / H(Attribute) $\n",
        "    - Este tipo de ganancia de información se utiliza para ajustar el sesgo que puede producirse cuando una variable predictora tiene muchos valores o niveles distintos. \n",
        "    - Divide la ganancia de información por la información dividida, que es una medida de la diversidad de los valores de la variable predictora.\n",
        "\n",
        "- \"symuncert\" : $2 * (H(Class) + H(Attribute) − H(Class, Attribute)) / (H(Attribute) + H(Class)) $\n",
        "    - Este tipo de ganancia de información mide la información mutua entre la variable objetivo y la variable predictora, y la ajusta por la entropía de ambas variables.\n",
        "    \n",
        "La elección del tipo de ganancia de información depende del problema específico y de la naturaleza de las variables predictoras. En general, infogain es un buen punto de partida y funciona bien con variables categóricas, mientras que gain_ratio y symmetrical_uncertainty son más adecuadas para variables categóricas continuas o de alta cardinalidad."
      ]
    },
    {
      "cell_type": "code",
      "execution_count": null,
      "id": "e41852f5-a1bb-46f8-bbba-f25eef446e8b",
      "metadata": {
        "id": "e41852f5-a1bb-46f8-bbba-f25eef446e8b"
      },
      "outputs": [],
      "source": [
        "# información mútua \n",
        "i <- information_gain(formula = is_churned ~ .,\n",
        "                      data = cust_churn_clean_df[, !(names(cust_churn_clean_df) %in% c(\"is_churned_numeric\", \"user_id\"))],\n",
        "                      type = 'infogain')\n",
        "i  \n",
        "\n",
        "# variables que tienen más importancia en nuestro dataset   \n",
        "ggplot(i, aes(x=attributes, y=importance)) + \n",
        "  geom_bar(stat = \"identity\") +\n",
        "  coord_flip()\n"
      ]
    },
    {
      "cell_type": "markdown",
      "id": "68fe771b-27f6-4b4c-a74a-f54e0c02f35e",
      "metadata": {
        "id": "68fe771b-27f6-4b4c-a74a-f54e0c02f35e"
      },
      "source": [
        "- La columna \"atributos\" enumera todas las variables (predictores) del dataset, y la columna \"importancia\" muestra la puntuación de importancia de cada variable, con respecto a la variable objetivo \"is_churned\". \n",
        "\n",
        "- La puntuación de importancia se mide utilizando la métrica de ganancia de información, que indica la reducción de la incertidumbre de la variable objetivo, dado el conocimiento de una determinada variable predictora.\n",
        "\n",
        "- Basándonos en las puntuaciones de la importancia, podemos ver que entre los predictores, \"payments_completed_amount_first_7days\" tiene la puntuación de importancia más alta (0.073), seguida de \"first_payment_amount\" (0.058). Es probable que estas variables sean predictores importantes de la pérdida de clientes y podría ser interesante tenerlas en cuenta en el modelo de regresión logística."
      ]
    },
    {
      "cell_type": "code",
      "execution_count": null,
      "id": "147ea63d-6f49-42b9-b3bd-87edb3ef69df",
      "metadata": {
        "id": "147ea63d-6f49-42b9-b3bd-87edb3ef69df"
      },
      "outputs": [],
      "source": [
        "### gainratio: variable target con dataset\n",
        "ig = information_gain(formula = is_churned ~ .,\n",
        "                      data = cust_churn_clean_df[, !(names(cust_churn_clean_df) %in% c(\"is_churned_numeric\", \"user_id\"))],\n",
        "                      type = 'gainratio')\n",
        "ig\n",
        "\n",
        "ggplot(ig, aes(x=attributes, y=importance)) + \n",
        "  geom_bar(stat = \"identity\") +\n",
        "  coord_flip()"
      ]
    },
    {
      "cell_type": "code",
      "execution_count": null,
      "id": "983d621e-d25f-4675-bf0a-8a40b86b4373",
      "metadata": {
        "id": "983d621e-d25f-4675-bf0a-8a40b86b4373"
      },
      "outputs": [],
      "source": [
        "### gainratio: variable target con dataset\n",
        "is = information_gain(formula = is_churned ~ .,\n",
        "                      data = cust_churn_clean_df[, !(names(cust_churn_clean_df) %in% c(\"is_churned_numeric\", \"user_id\"))],\n",
        "                      type = 'symuncert')\n",
        "\n",
        "is\n",
        "\n",
        "ggplot(is, aes(x=attributes, y=importance)) + \n",
        "  geom_bar(stat = \"identity\") +\n",
        "  coord_flip()"
      ]
    },
    {
      "cell_type": "markdown",
      "id": "045c8ac1-9351-4d0c-aa85-97232d12c16d",
      "metadata": {
        "id": "045c8ac1-9351-4d0c-aa85-97232d12c16d"
      },
      "source": [
        "- Ahora tenemos una visión de cuáles son las variables más importantes de nuestro dataset. \n",
        "\n",
        "- Entre ellas destacan:\n",
        "    - payments_completed_amount_first_7days\t\n",
        "    - first_payment_amount\t\n",
        "    - coins_redeemed_first_7days\n",
        "    - reward_purchase_count_first_7days\n",
        "    - payments_completed\n",
        "    \n",
        "Por tanto, es probable que estas variables sean predictores importantes de la pérdida de clientes y podría ser interesante tenerlas en cuenta en el modelo de regresión logística."
      ]
    },
    {
      "cell_type": "markdown",
      "id": "342fc0da-8b9c-4b1c-a874-b2282c7c8425",
      "metadata": {
        "id": "342fc0da-8b9c-4b1c-a874-b2282c7c8425"
      },
      "source": [
        "## PCA"
      ]
    },
    {
      "cell_type": "markdown",
      "id": "d53a5624-a49a-4415-8c48-4ca3e5bfd6a5",
      "metadata": {
        "id": "d53a5624-a49a-4415-8c48-4ca3e5bfd6a5"
      },
      "source": [
        "- Hacemos el PCA para limpiar las variables y ver con qué variables nos quedamos (solo lo haremos con las variables numéricas)."
      ]
    },
    {
      "cell_type": "markdown",
      "id": "8bb6173a-2200-4168-a478-44a0f95f2db3",
      "metadata": {
        "id": "8bb6173a-2200-4168-a478-44a0f95f2db3"
      },
      "source": [
        "- Obtenemos tantas componentes como variables numéricas tengamos.\n",
        "\n",
        "- Sirve para empezar a limpiar variables.\n",
        "\n",
        "- Posteriormente, con las variables que nos quedemos, volvemos a hacer correlaciones para ver cuáles son las que más correlacionan con la variable objetivo, y también para ver como se comportan entre ellas, ya que no queremos poner información redundante dentro del modelo. Eso también ayuda a limpiar.\n",
        "\n",
        "- acp = princomp(data_macro_cor,cor=TRUE)\n",
        "\n",
        "    - Tomamos como referencia correlaciones porque es muy importante que cuando tengamos diferentes unidades una no pese más que la otra.\n",
        "    - Si el objetivo es analizar las relaciones entre variables, princomp puede ser más apropiado.\n",
        "    - Si el objetivo es analizar los patrones en las variables, prcomp puede ser más apropiado."
      ]
    },
    {
      "cell_type": "code",
      "execution_count": null,
      "id": "19607ff1-4a02-4f24-9486-02ad5049522f",
      "metadata": {
        "id": "19607ff1-4a02-4f24-9486-02ad5049522f"
      },
      "outputs": [],
      "source": [
        "data_cor = data.frame(cust_churn_clean_df$first_payment_amount,\n",
        "                     cust_churn_clean_df$age,\n",
        "                     cust_churn_clean_df$number_of_cards,\n",
        "                     cust_churn_clean_df$payments_initiated,\n",
        "                     cust_churn_clean_df$payments_failed,\n",
        "                     cust_churn_clean_df$payments_completed,\n",
        "                     cust_churn_clean_df$payments_completed_amount_first_7days,\n",
        "                     cust_churn_clean_df$reward_purchase_count_first_7days,\n",
        "                     cust_churn_clean_df$coins_redeemed_first_7days,\n",
        "                     cust_churn_clean_df$visits_feature_1,\n",
        "                     cust_churn_clean_df$visits_feature_2\n",
        "                     )\n",
        "# matriz de correlación \n",
        "round(cor(data_cor),2)\n",
        "\n",
        "# PCA\n",
        "acp = princomp(data_cor,cor=TRUE)\n",
        "# resumen del PCA\n",
        "summary(acp)\n",
        "\n",
        "# sd\n",
        "print('desviación estandard componente1:')\n",
        "sd(predict(acp)[,1:1])\n",
        "\n",
        "# varianza\n",
        "print('varianza componente1:')\n",
        "var(predict(acp)[,1:1])"
      ]
    },
    {
      "cell_type": "markdown",
      "id": "b94898f0-a08f-45ae-a23e-06f277d53a41",
      "metadata": {
        "id": "b94898f0-a08f-45ae-a23e-06f277d53a41"
      },
      "source": [
        "- Obtenemos un total de 11 componentes (tantas como variables tengo sin contar las categóricas).\n",
        "\n",
        "- La 1ª componente es la que más varianza nos va a explicar: ya lo resume, ya hace la combinación lineal entre nuestras variables que explique todas esas variables que le hemos metido. \n",
        "\n",
        "- Miramos la Proportion of Variance (una medida de la cantidad de variación en los datos originales que es capturada por cada uno de los componentes principales) de la componente 1 y 2: 0.29 + 0.16 = 0.45. Es decir, la comp1 y 2 nos explican el 45% de la variación de los datos. \n",
        "\n",
        "- Añadimos la componente 3: 0.298 + 0.167 + 0.113 = 0.579. La comp 1, 2 y 3 nos explican el 58% de la variación de los datos.\n",
        "\n",
        "- Con un 58%, para empezar a generar un modelo y comenzar a limpiar variables ya nos sirve. "
      ]
    },
    {
      "cell_type": "code",
      "execution_count": null,
      "id": "78084c05-9ff2-4abb-bcda-d5adae99cb99",
      "metadata": {
        "id": "78084c05-9ff2-4abb-bcda-d5adae99cb99"
      },
      "outputs": [],
      "source": [
        "# A través de esta función tendriamos las puntuaciones en las componentes principales\n",
        "# Nos es útil para comparar  como para usar estas componentes sustituyendolas por las variables originales\n",
        "predict(acp)\n",
        "# acp$scores #otra forma de llamarlos"
      ]
    },
    {
      "cell_type": "markdown",
      "id": "83bf9e19-250c-44e1-8844-af0504bc00eb",
      "metadata": {
        "id": "83bf9e19-250c-44e1-8844-af0504bc00eb"
      },
      "source": [
        "- La función predict() en R se utiliza para hacer predicciones basadas en un modelo. \n",
        "\n",
        "- En el caso, la función predict() se aplica a un objeto PCA obtenido de la función princomp(), lo que significa que devolverá las puntuaciones de componentes principales predichas para las observaciones del conjunto de datos original.\n",
        "\n",
        "- Las puntuaciones de los componentes principales son las coordenadas de las observaciones en el nuevo sistema de coordenadas definido por los componentes principales. \n",
        "\n",
        "- La puntuación de la primera componente principal es la proyección de cada observación sobre la primera componente principal, la puntuación de la segunda componente principal es la proyección de cada observación sobre la segunda componente principal, y así sucesivamente.\n",
        "\n",
        "- Es decir, para cada una de mis observaciones, que valor tendría esa nueva variable (esa componente), para cada una las componentes. A partir de esto luego podremos dibujarlo en los ejes de coordenadas mediante el biplot(). Esto nos ayudará a saber qué variables son las que mayor peso tienen en la componente 1 o en la componente 2. "
      ]
    },
    {
      "cell_type": "code",
      "execution_count": null,
      "id": "de23ac62-0485-4652-bf0b-b27a8d6de2ba",
      "metadata": {
        "id": "de23ac62-0485-4652-bf0b-b27a8d6de2ba"
      },
      "outputs": [],
      "source": [
        "loadings(acp)"
      ]
    },
    {
      "cell_type": "markdown",
      "id": "411c1cc4-efc1-448b-9b32-a3c9b91b6815",
      "metadata": {
        "id": "411c1cc4-efc1-448b-9b32-a3c9b91b6815"
      },
      "source": [
        "- Loadings son los pesos: nos dice qué variables son las que realmente están aportando mayor información en esta componente. Los pesos son los coeficientes que describen la combinación lineal de las variables originales que componen cada componente principal.\n",
        "\n",
        "- Nos quedamos de la componente 1 con el reward_purchase_count_first_7days (0.486) que es la que mayor peso tiene, de la componente 2 con el first_payment_amount (0.573) y de la componente 3 visits_feature_1 (0.698). \n",
        "\n",
        "- Seleccionaremos también payments_initiated (0.469) y payments_completed_amount_first_7days (0.523) ya que pueden ser interesantes. \n",
        "\n",
        "- (Se miran tanto las positivas como las negativas, las que tengan más peso ya sea en + o en -).\n",
        "\n",
        "- Ya hemos hecho una criba de variables.\n",
        "\n",
        "-  Queremos saber qué variables contribuyen más a esas componentes principales. Con solo estas, ya vamos a tener una mínima explicabilidad. ¿Esto nos será suficiente para tener un buen modelo? Vamos a verlo."
      ]
    },
    {
      "cell_type": "code",
      "execution_count": null,
      "id": "4dd9de1b-8b71-4a5c-b322-22b342ca1f43",
      "metadata": {
        "id": "4dd9de1b-8b71-4a5c-b322-22b342ca1f43"
      },
      "outputs": [],
      "source": [
        "options(repr.plot.width = 10, repr.plot.height = 6)\n",
        "plot(acp)"
      ]
    },
    {
      "cell_type": "markdown",
      "id": "f9d79fd7-f1c6-4250-9829-cfd8732d7b34",
      "metadata": {
        "id": "f9d79fd7-f1c6-4250-9829-cfd8732d7b34"
      },
      "source": [
        "Barplot\n",
        "- La suma de las varianzas tiene que sumar 11: entre las 3 primeras componentes ya vemos que casi todo queda explicado, las últimas son residuales.\n",
        "\n",
        "Biplot:\n",
        "- En este caso no lo graficamos ya que el programa 'peta', se queda sin memoria. \n",
        "- Dibujamos las variables en los ejes. \n",
        "- Gráfico de dispersión de las puntuaciones de los componentes principales que incluye los pesos (o coeficientes) de las variables originales en los componentes principales. Las cargas se representan mediante flechas que indican la dirección y la magnitud de la contribución de cada variable a los componentes principales. La longitud de la flecha corresponde a la magnitud de la carga, y la dirección de la flecha indica la dirección de la carga.\n",
        "- Qué nuevo valor tienen la comp1 y la comp2 para dibujarlo en el eje de coordenadas. \n",
        "- Podemos obervar si una variable está más relacionada con la comp1 o la comp2.\n",
        "- Es una representación extra que podemos hacer para visualizarlo. "
      ]
    },
    {
      "cell_type": "markdown",
      "id": "bc624249-2b99-4f24-9129-ed82991cbd3f",
      "metadata": {
        "id": "bc624249-2b99-4f24-9129-ed82991cbd3f"
      },
      "source": [
        "### Matriz de componentes"
      ]
    },
    {
      "cell_type": "code",
      "execution_count": null,
      "id": "edd29838-4a1d-4daa-88a8-b509c3e38b0c",
      "metadata": {
        "tags": [],
        "id": "edd29838-4a1d-4daa-88a8-b509c3e38b0c"
      },
      "outputs": [],
      "source": [
        "mcomponentes = cor(data_cor,predict(acp)[,1:3]) # Matriz de componentes\n",
        "mcomponentes\n",
        "\n",
        "\n",
        "apply(mcomponentes*mcomponentes,1,sum)"
      ]
    },
    {
      "cell_type": "markdown",
      "id": "e7f7ede7-d093-4460-8ebe-366edfd57fd7",
      "metadata": {
        "id": "e7f7ede7-d093-4460-8ebe-366edfd57fd7"
      },
      "source": [
        "- Los pesos de los componentes muestran las relaciones lineales entre cada variable original y los 3 componentes. Los valores positivos indican una relación positiva entre la variable original y el componente, mientras que los valores negativos indican una relación negativa.\n",
        "\n",
        "- Podemos observar que varias variables tienen pesos elevados en el primer componente (Comp.1), como reward_purchase_count_first_7days, payments_initiated y payments_completed. Esto sugiere que estas variables impulsan el primer componente, que podría captar algún aspecto importante de la variación de los datos.\n",
        "\n",
        "- El segundo componente (Comp.2) tiene pesos positivos para la variable first_payment_amount y payments_completed_amount_first_7days. Esto sugiere que este componente podría estar captando alguna relación entre estas variables en los datos.\n",
        "\n",
        "- El tercer componente (Comp.3) tiene pesos positivos elevados para visits_feature_1 y visits_feature_2. Esto sugiere que este componente podría estar capturando alguna relación entre estas variables en los datos.\n",
        "\n",
        "- Por tanto, los resultados de este PCA sugieren que existen varias relaciones subyacentes en los datos que podrían ser captadas por estos 3 componentes."
      ]
    },
    {
      "cell_type": "code",
      "execution_count": null,
      "id": "a182b4ac-db97-4dd0-98e5-2b2f93c7316d",
      "metadata": {
        "id": "a182b4ac-db97-4dd0-98e5-2b2f93c7316d"
      },
      "outputs": [],
      "source": [
        "# payments_initiated\n",
        "(0.85029154)^2 + (-0.43518697)^2 + (-0.039441047)^2"
      ]
    },
    {
      "cell_type": "markdown",
      "id": "f3327135-258e-4bd4-a3c9-dc1c8599e872",
      "metadata": {
        "id": "f3327135-258e-4bd4-a3c9-dc1c8599e872"
      },
      "source": [
        "- Por ejemplo. la comp1, la comp2 y la comp3 me están explicando el 91% de la variación del payments_initiated. Me está conservando mucha información. Estas nuevas variables abstractas me están explicando mucho. \n",
        "- Por tanto, un 91% de la varianza de payments_initiated viene explicada por la componente 1, 2 y 3."
      ]
    },
    {
      "cell_type": "markdown",
      "id": "8a29265a-34fa-49e8-9b16-dbce0c1a703f",
      "metadata": {
        "id": "8a29265a-34fa-49e8-9b16-dbce0c1a703f"
      },
      "source": [
        "- Para las otras variables de interés:"
      ]
    },
    {
      "cell_type": "code",
      "execution_count": null,
      "id": "beb176d3-caf4-46d8-8d11-e5435a0c9aad",
      "metadata": {
        "id": "beb176d3-caf4-46d8-8d11-e5435a0c9aad"
      },
      "outputs": [],
      "source": [
        "# payments_completed\n",
        "(0.82683019)^2 + (-0.41842746)^2 + (-0.081579348)^2"
      ]
    },
    {
      "cell_type": "code",
      "execution_count": null,
      "id": "66dcca68-5c73-4423-bed9-b298526b2adf",
      "metadata": {
        "id": "66dcca68-5c73-4423-bed9-b298526b2adf"
      },
      "outputs": [],
      "source": [
        "# payments_completed_amount_first_7days\t\n",
        "(0.57048000)^2 + (0.71001877)^2 + (0.006048129)^2"
      ]
    },
    {
      "cell_type": "code",
      "execution_count": null,
      "id": "08be3180-0ea9-4f5f-a6b7-d42ed5c9ffa3",
      "metadata": {
        "id": "08be3180-0ea9-4f5f-a6b7-d42ed5c9ffa3"
      },
      "outputs": [],
      "source": [
        "# reward_purchase_count_first_7days\n",
        "0.88004924^2 + (-0.17401327)^2 + (-0.042138734)^2"
      ]
    },
    {
      "cell_type": "code",
      "execution_count": null,
      "id": "150d7751-48c8-4c87-932e-bca72aa48dcc",
      "metadata": {
        "id": "150d7751-48c8-4c87-932e-bca72aa48dcc"
      },
      "outputs": [],
      "source": [
        "# first_payment_amount\n",
        "(0.27949804)^2 + (0.77722073)^2 + (0.026602194)^2"
      ]
    },
    {
      "cell_type": "code",
      "execution_count": null,
      "id": "6ada1d5f-a572-4c1f-84c4-7532f6aaaed8",
      "metadata": {
        "id": "6ada1d5f-a572-4c1f-84c4-7532f6aaaed8"
      },
      "outputs": [],
      "source": [
        "# visits_feature_1\t\n",
        "(0.10019928)^2 + (-0.02252901)^2 + (0.779061892)^2"
      ]
    },
    {
      "cell_type": "code",
      "execution_count": null,
      "id": "2f506e5e-4214-4a93-8541-fe0a9ed42128",
      "metadata": {
        "id": "2f506e5e-4214-4a93-8541-fe0a9ed42128"
      },
      "outputs": [],
      "source": [
        "# visits_feature_2\n",
        "(0.10625789)^2 + (-0.02214432)^2 + (0.736241989)^2"
      ]
    },
    {
      "cell_type": "markdown",
      "id": "590b5ec0-a485-4546-b024-8d02a980ff98",
      "metadata": {
        "id": "590b5ec0-a485-4546-b024-8d02a980ff98"
      },
      "source": [
        "## ANOVA"
      ]
    },
    {
      "cell_type": "markdown",
      "id": "77bfb2dc-6862-4805-b3fe-9ae02b9d0f96",
      "metadata": {
        "id": "77bfb2dc-6862-4805-b3fe-9ae02b9d0f96"
      },
      "source": [
        "- La ANOVA nos dice cómo cuantificar la pertenencia a una de las categorías.\n",
        "- La ANOVA puede ser una herramienta útil para identificar si existen diferencias significativas en las características numéricas entre los grupos de clientes que abandonaron y los que no."
      ]
    },
    {
      "cell_type": "code",
      "execution_count": null,
      "id": "a27b98f9-be7f-49d8-858e-f9197b0641f4",
      "metadata": {
        "id": "a27b98f9-be7f-49d8-858e-f9197b0641f4"
      },
      "outputs": [],
      "source": [
        "var_names <- c(\"first_payment_amount\", \"age\", \"number_of_cards\", \"payments_initiated\", \n",
        "               \"payments_failed\", \"payments_completed\", \"payments_completed_amount_first_7days\", \n",
        "               \"reward_purchase_count_first_7days\", \"coins_redeemed_first_7days\", \n",
        "               \"visits_feature_1\", \"visits_feature_2\", \"is_churned\")\n",
        "data_anova <- cust_churn_clean_df[var_names]"
      ]
    },
    {
      "cell_type": "markdown",
      "id": "53bca935-1a51-445c-bac6-5080c8e27aad",
      "metadata": {
        "tags": [],
        "id": "53bca935-1a51-445c-bac6-5080c8e27aad"
      },
      "source": [
        "### Primeras suposiciones"
      ]
    },
    {
      "cell_type": "code",
      "execution_count": null,
      "id": "9744243e-902a-4375-ae25-eabe6749d847",
      "metadata": {
        "id": "9744243e-902a-4375-ae25-eabe6749d847"
      },
      "outputs": [],
      "source": [
        "message('first_payment_amount')\n",
        "data_anova %>% # pasamos los datos en el objeto data_anova como entrada a la siguiente operación\n",
        "    group_by(is_churned) %>%  # agrupamos los datos en el objeto boston_aov_df por la variable is_churned  \n",
        "    # calculamos la media y la desviación estándar de la variable first_payment_amount para cada grupo de is_churned  \n",
        "    summarize(media = mean(first_payment_amount), desv = sd(first_payment_amount))\n",
        "\n",
        "message('age')\n",
        "data_anova %>% \n",
        "    group_by(is_churned) %>%  \n",
        "    summarize(media = mean(age), desv = sd(age))\n",
        "\n",
        "message('number_of_cards')\n",
        "data_anova %>% \n",
        "    group_by(is_churned) %>%  \n",
        "    summarize(media = mean(number_of_cards), desv = sd(number_of_cards))\n",
        "\n",
        "message('payments_initiated')\n",
        "data_anova %>%\n",
        "group_by(is_churned) %>%\n",
        "summarize(media = mean(payments_initiated), desv = sd(payments_initiated))\n",
        "\n",
        "message('payments_failed')\n",
        "data_anova %>%\n",
        "group_by(is_churned) %>%\n",
        "summarize(media = mean(payments_failed), desv = sd(payments_failed))\n",
        "\n",
        "message('payments_completed')\n",
        "data_anova %>%\n",
        "group_by(is_churned) %>%\n",
        "summarize(media = mean(payments_completed), desv = sd(payments_completed))\n",
        "\n",
        "message('payments_completed_amount_first_7days')\n",
        "data_anova %>%\n",
        "group_by(is_churned) %>%\n",
        "summarize(media = mean(payments_completed_amount_first_7days), desv = sd(payments_completed_amount_first_7days))\n",
        "\n",
        "message('reward_purchase_count_first_7days')\n",
        "data_anova %>%\n",
        "group_by(is_churned) %>%\n",
        "summarize(media = mean(reward_purchase_count_first_7days), desv = sd(reward_purchase_count_first_7days))\n",
        "\n",
        "message('coins_redeemed_first_7days')\n",
        "data_anova %>%\n",
        "group_by(is_churned) %>%\n",
        "summarize(media = mean(coins_redeemed_first_7days), desv = sd(coins_redeemed_first_7days))\n",
        "\n",
        "message('visits_feature_1')\n",
        "data_anova %>%\n",
        "group_by(is_churned) %>%\n",
        "summarize(media = mean(visits_feature_1), desv = sd(visits_feature_1))\n",
        "\n",
        "message('visits_feature_2')\n",
        "data_anova %>%\n",
        "group_by(is_churned) %>%\n",
        "summarize(media = mean(visits_feature_2), desv = sd(visits_feature_2))"
      ]
    },
    {
      "cell_type": "markdown",
      "id": "d2deb37b-6d89-428b-8af7-532e495fafea",
      "metadata": {
        "id": "d2deb37b-6d89-428b-8af7-532e495fafea"
      },
      "source": [
        "- Parece que los todos grupos tienen valores diferentes de media y desviación típica para cada la variable.\n",
        "\n",
        "- Basándonos únicamente en este análisis, no podemos afirmar que, que el cliente haga churn se vea afectado por estas variables. "
      ]
    },
    {
      "cell_type": "markdown",
      "id": "e0e95175-f58f-4a35-b4df-64af72ecf34d",
      "metadata": {
        "id": "e0e95175-f58f-4a35-b4df-64af72ecf34d"
      },
      "source": [
        "- Observando el gráficos de violín (vistos en apartados anteriores) así como las medias y las desviaciones estándar por categoría parece ser que hay una notable diferencia entre las distintas variables numéricas y si el cliente hace churn o no. \n",
        "\n",
        "- Las distribución de los datos no parece una distribución normal (lo hemos visto en apartados anteriores mediante violinplots), aunque esto lo corroboraremos en el siguiente punto mediante tests de normalidad como el Anderson-Darling test. "
      ]
    },
    {
      "cell_type": "markdown",
      "id": "0bbec3af-51a6-46ee-ac73-632523077b05",
      "metadata": {
        "tags": [],
        "id": "0bbec3af-51a6-46ee-ac73-632523077b05"
      },
      "source": [
        "### Comprobación de condiciones "
      ]
    },
    {
      "cell_type": "markdown",
      "id": "66ffedf1-2aa9-47ed-b44f-7b94f897637f",
      "metadata": {
        "id": "66ffedf1-2aa9-47ed-b44f-7b94f897637f"
      },
      "source": [
        "Comprobamos las condiciones para poder aplicar el test ANOVA."
      ]
    },
    {
      "cell_type": "markdown",
      "id": "d50aa73f-89e0-4dda-aeed-76c8ceb4d7c4",
      "metadata": {
        "id": "d50aa73f-89e0-4dda-aeed-76c8ceb4d7c4"
      },
      "source": [
        "ANOVA (Analysis of Variance) es una técnica estadística que se utiliza para dos o más grupos para comprobar si existe una diferencia entre sus valores medios [1],[2].\n",
        "\n",
        "Las suposiciones de ANOVA son:\n",
        "- La distribución de los datos es normal\n",
        "- La varianza es constante entre los grupos\n",
        "- Las observaciones son independientes entre sí\n"
      ]
    },
    {
      "cell_type": "markdown",
      "id": "ab4408a7-f0cd-4cd5-b993-c2afd6190a06",
      "metadata": {
        "id": "ab4408a7-f0cd-4cd5-b993-c2afd6190a06"
      },
      "source": [
        "#### Normalidad"
      ]
    },
    {
      "cell_type": "markdown",
      "id": "3c00e961-8573-4ada-84b8-017c48fdf2a9",
      "metadata": {
        "id": "3c00e961-8573-4ada-84b8-017c48fdf2a9"
      },
      "source": [
        "- Visualización: Q-Q Plot\n",
        "- Prueba estadística: se utiliza el test de normalidad de Anderson-Darling ya tenemos más de 50 muestras:\n",
        "    - H0: La variable presenta una distribución normal\n",
        "    - H1: La variable presenta una distribución no normal\n",
        "    - p-value > 0.05: No rechazar H0 (normal)\n",
        "    - p-value < 0.05: Rechazar H0\n"
      ]
    },
    {
      "cell_type": "code",
      "execution_count": null,
      "id": "3a35046b-e4a0-468a-ac57-f0aff23e3397",
      "metadata": {
        "id": "3a35046b-e4a0-468a-ac57-f0aff23e3397"
      },
      "outputs": [],
      "source": [
        "# Create normal probability plots \n",
        "options(repr.plot.width = 8, repr.plot.height = 4)\n",
        "par(mfrow = c(1,2))\n",
        "\n",
        "message('first_payment_amount')\n",
        "for(i in unique(data_anova$is_churned)){\n",
        "  qqnorm(subset(data_anova, is_churned == i)[,'first_payment_amount'])\n",
        "  qqline(subset(data_anova, is_churned == i)[,'first_payment_amount'])\n",
        "  title(paste(\"\\t\\t\\t\\t\\t\\tChurn: \",i))\n",
        "}"
      ]
    },
    {
      "cell_type": "code",
      "execution_count": null,
      "id": "4f183b98-a454-4eed-8484-bbb0b67b64f3",
      "metadata": {
        "id": "4f183b98-a454-4eed-8484-bbb0b67b64f3"
      },
      "outputs": [],
      "source": [
        "options(repr.plot.width = 8, repr.plot.height = 4)\n",
        "par(mfrow = c(1,2))\n",
        "message('age')\n",
        "for(i in unique(data_anova$is_churned)){\n",
        "  qqnorm(subset(data_anova, is_churned == i)[,'age'])\n",
        "  qqline(subset(data_anova, is_churned == i)[,'age'])\n",
        "  title(paste(\"\\t\\t\\t\\t\\t\\tChurn: \",i))\n",
        "}"
      ]
    },
    {
      "cell_type": "code",
      "execution_count": null,
      "id": "cfbdfdd1-3f87-40f7-8cde-ea60f5bf5239",
      "metadata": {
        "id": "cfbdfdd1-3f87-40f7-8cde-ea60f5bf5239"
      },
      "outputs": [],
      "source": [
        "options(repr.plot.width = 8, repr.plot.height = 4)\n",
        "par(mfrow = c(1,2))\n",
        "message('number_of_cards')\n",
        "for(i in unique(data_anova$is_churned)){\n",
        "  qqnorm(subset(data_anova, is_churned == i)[,'number_of_cards'])\n",
        "  qqline(subset(data_anova, is_churned == i)[,'number_of_cards'])\n",
        "  title(paste(\"\\t\\t\\t\\t\\t\\tChurn: \",i))\n",
        "}"
      ]
    },
    {
      "cell_type": "code",
      "execution_count": null,
      "id": "a698d3f5-6a95-4606-8fa3-1092a469682e",
      "metadata": {
        "id": "a698d3f5-6a95-4606-8fa3-1092a469682e"
      },
      "outputs": [],
      "source": [
        "options(repr.plot.width = 8, repr.plot.height = 4)\n",
        "par(mfrow = c(1,2))\n",
        "message('payments_initiated')\n",
        "for(i in unique(data_anova$is_churned)){\n",
        "  qqnorm(subset(data_anova, is_churned == i)[,'payments_initiated'])\n",
        "  qqline(subset(data_anova, is_churned == i)[,'payments_initiated'])\n",
        "  title(paste(\"\\t\\t\\t\\t\\t\\tChurn: \",i))\n",
        "}"
      ]
    },
    {
      "cell_type": "code",
      "execution_count": null,
      "id": "27afb04d-90cd-4ec7-9518-f0ed38775328",
      "metadata": {
        "id": "27afb04d-90cd-4ec7-9518-f0ed38775328"
      },
      "outputs": [],
      "source": [
        "options(repr.plot.width = 8, repr.plot.height = 4)\n",
        "par(mfrow = c(1,2))\n",
        "message('payments_failed')\n",
        "for(i in unique(data_anova$is_churned)){\n",
        "  qqnorm(subset(data_anova, is_churned == i)[,'payments_failed'])\n",
        "  qqline(subset(data_anova, is_churned == i)[,'payments_failed'])\n",
        "  title(paste(\"\\t\\t\\t\\t\\t\\tChurn: \",i))\n",
        "}"
      ]
    },
    {
      "cell_type": "code",
      "execution_count": null,
      "id": "1e89713e-df5a-4eeb-b04d-d73555951631",
      "metadata": {
        "id": "1e89713e-df5a-4eeb-b04d-d73555951631"
      },
      "outputs": [],
      "source": [
        "options(repr.plot.width = 8, repr.plot.height = 4)\n",
        "par(mfrow = c(1,2))\n",
        "\n",
        "message('payments_completed')\n",
        "for(i in unique(data_anova$is_churned)){\n",
        "  qqnorm(subset(data_anova, is_churned == i)[,'payments_completed'])\n",
        "  qqline(subset(data_anova, is_churned == i)[,'payments_completed'])\n",
        "  title(paste(\"\\t\\t\\t\\t\\t\\tChurn: \",i))\n",
        "}"
      ]
    },
    {
      "cell_type": "code",
      "execution_count": null,
      "id": "c48f4d42-4fe2-4461-a812-b1bd0097b9b5",
      "metadata": {
        "id": "c48f4d42-4fe2-4461-a812-b1bd0097b9b5"
      },
      "outputs": [],
      "source": [
        "options(repr.plot.width = 8, repr.plot.height = 4)\n",
        "par(mfrow = c(1,2))\n",
        "message('payments_completed_amount_first_7days')\n",
        "for(i in unique(data_anova$is_churned)){\n",
        "  qqnorm(subset(data_anova, is_churned == i)[,'payments_completed_amount_first_7days'])\n",
        "  qqline(subset(data_anova, is_churned == i)[,'payments_completed_amount_first_7days'])\n",
        "  title(paste(\"\\t\\t\\t\\t\\t\\tChurn: \",i))\n",
        "}"
      ]
    },
    {
      "cell_type": "code",
      "execution_count": null,
      "id": "1288686d-3420-4e36-a1e5-af0ba7195ac2",
      "metadata": {
        "id": "1288686d-3420-4e36-a1e5-af0ba7195ac2"
      },
      "outputs": [],
      "source": [
        "options(repr.plot.width = 8, repr.plot.height = 4)\n",
        "par(mfrow = c(1,2))\n",
        "\n",
        "message('reward_purchase_count_first_7days')\n",
        "for(i in unique(data_anova$is_churned)){\n",
        "  qqnorm(subset(data_anova, is_churned == i)[,'reward_purchase_count_first_7days'])\n",
        "  qqline(subset(data_anova, is_churned == i)[,'reward_purchase_count_first_7days'])\n",
        "  title(paste(\"\\t\\t\\t\\t\\t\\tChurn: \",i))\n",
        "}\n"
      ]
    },
    {
      "cell_type": "code",
      "execution_count": null,
      "id": "36cf2b65-8edf-4e66-947e-63f29a2f8a5f",
      "metadata": {
        "id": "36cf2b65-8edf-4e66-947e-63f29a2f8a5f"
      },
      "outputs": [],
      "source": [
        "options(repr.plot.width = 8, repr.plot.height = 4)\n",
        "par(mfrow = c(1,2))\n",
        "\n",
        "message('coins_redeemed_first_7days')\n",
        "for(i in unique(data_anova$is_churned)){\n",
        "  qqnorm(subset(data_anova, is_churned == i)[,'coins_redeemed_first_7days'])\n",
        "  qqline(subset(data_anova, is_churned == i)[,'coins_redeemed_first_7days'])\n",
        "  title(paste(\"\\t\\t\\t\\t\\t\\tChurn: \",i))\n",
        "}"
      ]
    },
    {
      "cell_type": "code",
      "execution_count": null,
      "id": "1250bdf8-acf2-4078-98f2-b10a8bb2d86f",
      "metadata": {
        "id": "1250bdf8-acf2-4078-98f2-b10a8bb2d86f"
      },
      "outputs": [],
      "source": [
        "options(repr.plot.width = 8, repr.plot.height = 4)\n",
        "par(mfrow = c(1,2))\n",
        "\n",
        "message('visits_feature_1')\n",
        "for(i in unique(data_anova$is_churned)){\n",
        "  qqnorm(subset(data_anova, is_churned == i)[,'visits_feature_1'])\n",
        "  qqline(subset(data_anova, is_churned == i)[,'visits_feature_1'])\n",
        "  title(paste(\"\\t\\t\\t\\t\\t\\tChurn: \",i))\n",
        "}"
      ]
    },
    {
      "cell_type": "code",
      "execution_count": null,
      "id": "0dba529c-03f2-4440-8563-220ed51f6e2c",
      "metadata": {
        "id": "0dba529c-03f2-4440-8563-220ed51f6e2c"
      },
      "outputs": [],
      "source": [
        "options(repr.plot.width = 8, repr.plot.height = 4)\n",
        "par(mfrow = c(1,2))\n",
        "\n",
        "message('visits_feature_2')\n",
        "for(i in unique(data_anova$is_churned)){\n",
        "  qqnorm(subset(data_anova, is_churned == i)[,'visits_feature_2'])\n",
        "  qqline(subset(data_anova, is_churned == i)[,'visits_feature_2'])\n",
        "  title(paste(\"\\t\\t\\t\\t\\t\\tChurn: \",i))\n",
        "}\n"
      ]
    },
    {
      "cell_type": "code",
      "execution_count": null,
      "id": "5c31f519-5a0e-4c0b-a167-9f300c824583",
      "metadata": {
        "id": "5c31f519-5a0e-4c0b-a167-9f300c824583"
      },
      "outputs": [],
      "source": [
        "# Define the variable names\n",
        "var_names_ad <- c(\"first_payment_amount\", \"age\", \"number_of_cards\", \"payments_initiated\", \n",
        "               \"payments_failed\", \"payments_completed\", \"payments_completed_amount_first_7days\", \n",
        "               \"reward_purchase_count_first_7days\", \"coins_redeemed_first_7days\", \n",
        "               \"visits_feature_1\", \"visits_feature_2\")\n",
        "\n",
        "# Subset the data\n",
        "data_ad <- cust_churn_clean_df[var_names_ad]\n",
        "\n",
        "# Loop through the variables and compute the Anderson-Darling test\n",
        "for (var in var_names_ad) {\n",
        "  for (churn in unique(data_anova$is_churned)) {\n",
        "    ad_test <- ad.test(subset(data_anova, is_churned == churn)[[var]])\n",
        "    cat(paste(\"Variable:\", var, \"Churn:\", churn, \"\\n\"))\n",
        "    cat(paste(\"Statistic:\", ad_test$statistic, \"\\n\"))\n",
        "    cat(paste(\"p-value:\", ad_test$p.value, \"\\n\"))\n",
        "    cat(\"\\n\")\n",
        "  }\n",
        "}\n"
      ]
    },
    {
      "cell_type": "markdown",
      "id": "70da6373-38eb-4b20-bac5-b4f93dd25409",
      "metadata": {
        "id": "70da6373-38eb-4b20-bac5-b4f93dd25409"
      },
      "source": [
        "- Observamos que el p-value < 0.05 para ambos grupos de todas las variables numéricas.  \n",
        "- El test de normalidad de Anderson Darling rechaza la hipótesis de normalidad cuando el p-value ≤ 0.05.  \n",
        "- Fallar la prueba de normalidad permite afirmar con un 95% de confianza que los datos no se ajustan a la distribución normal."
      ]
    },
    {
      "cell_type": "markdown",
      "id": "15ee8152-894e-473b-98cf-6461cffec885",
      "metadata": {
        "id": "15ee8152-894e-473b-98cf-6461cffec885"
      },
      "source": [
        "No obstante, aunque los datos NO pasen la prueba de normalidad, es importante comprobar otros supuestos del ANOVA, como la homocedasticidad."
      ]
    },
    {
      "cell_type": "markdown",
      "id": "05b229a6-26b1-4500-ac50-2e1868117499",
      "metadata": {
        "id": "05b229a6-26b1-4500-ac50-2e1868117499"
      },
      "source": [
        "#### Homocedasticidad"
      ]
    },
    {
      "cell_type": "markdown",
      "id": "ed39adb9-cd7c-489b-b4e3-575d65d3b92e",
      "metadata": {
        "id": "ed39adb9-cd7c-489b-b4e3-575d65d3b92e"
      },
      "source": [
        "Homocedasticidad: las varianzas son iguales en todos los grupos.\n",
        "-  Bartlett’s test: \n",
        "    - Para verificar el supuesto de que las varianzas son iguales en todos los grupos.\n",
        "    - Compara las varianzas de k muestras, donde k puede ser más de dos muestras [3]. \n",
        "    - Los datos deben estar distribuidos normalmente.\n",
        "    - Hipótesis nula H0: todas las varianzas de las poblaciones son iguales.\n",
        "    - Hipótesis alternativa H1: al menos dos de ellas difieren."
      ]
    },
    {
      "cell_type": "code",
      "execution_count": null,
      "id": "4bfc3d2a-8d61-4a64-9f8f-daa008b8375a",
      "metadata": {
        "id": "4bfc3d2a-8d61-4a64-9f8f-daa008b8375a"
      },
      "outputs": [],
      "source": [
        "# Bartlett’s test with one independent variable (is_churned):\n",
        "for (var in var_names_ad) {\n",
        "  res <- bartlett.test(get(var) ~ is_churned, data = data_anova)\n",
        "  print(paste(\"Variable:\", var))\n",
        "  print(res)\n",
        "}"
      ]
    },
    {
      "cell_type": "markdown",
      "id": "2eb2ba51-6cff-468e-aa5a-de96a036db40",
      "metadata": {
        "id": "2eb2ba51-6cff-468e-aa5a-de96a036db40"
      },
      "source": [
        "- Podemos observar que el p-value no es superior al nivel de significancia (p-value < 0.05). \n",
        "\n",
        "- Por tanto, podemos rechazar la hipótesis nula y podemos concluir que las varianzas no son iguales. \n",
        "\n"
      ]
    },
    {
      "cell_type": "markdown",
      "id": "05e18ae6-533f-49ec-9843-7d7320bce641",
      "metadata": {
        "id": "05e18ae6-533f-49ec-9843-7d7320bce641"
      },
      "source": [
        "#### Independencia en las muestras"
      ]
    },
    {
      "cell_type": "markdown",
      "id": "56ce7716-5005-4815-9e47-4a31e0835c7b",
      "metadata": {
        "id": "56ce7716-5005-4815-9e47-4a31e0835c7b"
      },
      "source": [
        "- La independencia de las muestras se refiere al supuesto de que las observaciones de cada muestra no están influidas por las observaciones de otras muestras.\n",
        "\n",
        "- Que las muestras sean independientes o no depende del contexto de los datos y de cómo se hayan recogido. \n",
        "\n",
        "- Por ejemplo, si los datos se recogieron en distintas ciudades y cada ciudad representa una muestra independiente, se puede suponer que las observaciones de cada ciudad son independientes de las observaciones de otras ciudades.\n",
        "\n",
        "- Suponemos que las muestras son independientes."
      ]
    },
    {
      "cell_type": "markdown",
      "id": "e083e3dc-cfcc-4e7c-802c-123bc0f11c17",
      "metadata": {
        "id": "e083e3dc-cfcc-4e7c-802c-123bc0f11c17"
      },
      "source": [
        "- Después de realizar los supuestos, vemos que no se cumplen los supuestos de normalidad y homocedasticidad.\n",
        "- Por tanto NO podemos aplicar el test ANOVA.\n",
        "- Deberemos usar alternativas no-paramétricas, como por ejemplo, el test de Kruskal-Wallis, que no asume la normalidad ni la igualdad de varianzas entre grupos.\n"
      ]
    },
    {
      "cell_type": "markdown",
      "id": "640e9c13-fc63-41b7-aa0d-52a056066fd8",
      "metadata": {
        "id": "640e9c13-fc63-41b7-aa0d-52a056066fd8"
      },
      "source": [
        "## Kruskall - Wallis test"
      ]
    },
    {
      "cell_type": "markdown",
      "id": "75ce7416-99dc-476f-b0ad-7967d856b623",
      "metadata": {
        "id": "75ce7416-99dc-476f-b0ad-7967d856b623"
      },
      "source": [
        "- La prueba de Kruskal-Wallis es un método no paramétrico para testear la hipótesis nula de que las medianas de dos o más grupos son iguales. \n",
        "\n",
        "- Puede utilizarse para determinar si las diferentes variables númericas que tenemos son significativamente diferentes en los dos niveles de is_churned (0 y 1).\n",
        "\n",
        "- Si la prueba de Kruskal-Wallis muestra una diferencia significativa en las diferentes variables númericas entre los dos niveles de is_churned, indicaría que el hecho de que el cliente haga churn o no, tiene un efecto significativo en en esas variables, y podríamos considerar incluirlas como predictoras en el modelo de regresión logística."
      ]
    },
    {
      "cell_type": "code",
      "execution_count": null,
      "id": "25e1d783-ab85-4073-b772-af6a87f9efd9",
      "metadata": {
        "id": "25e1d783-ab85-4073-b772-af6a87f9efd9"
      },
      "outputs": [],
      "source": [
        "# Perform the Kruskal-Wallis test\n",
        "for (var in var_names_ad) {\n",
        "  res <- kruskal.test(get(var) ~ is_churned, data = data_anova)\n",
        "  print(paste(\"Variable:\", var))\n",
        "  print(res)\n",
        "}"
      ]
    },
    {
      "cell_type": "markdown",
      "id": "d91e8f43-ec85-4e4d-8a51-216b34d1d181",
      "metadata": {
        "id": "d91e8f43-ec85-4e4d-8a51-216b34d1d181"
      },
      "source": [
        "- Como el p-value < 0.05 para todas las variables numéricas, podemos rechazar la hipótesis nula y concluir que existen pruebas significativas de que las medianas de las variables numéricas son diferentes entre los dos niveles de is_churned.\n",
        "- Esto indica que existe una diferencia en los valores medianos de las variables numéricas en función si el cliente hace churn o no. \n",
        "- Basándose en este resultado, puede ser apropiado considerar la inclusión estas variables como predictoras en nuestro modelo de regresión logística. No obstante, qué variables incluiremos en el modelo lo acabaremos de decidir posteriormente. "
      ]
    },
    {
      "cell_type": "markdown",
      "id": "cfa6d3a2-be9e-4dab-ae47-7d78d268e913",
      "metadata": {
        "id": "cfa6d3a2-be9e-4dab-ae47-7d78d268e913"
      },
      "source": [
        "## Construcción del modelo de regresión logística"
      ]
    },
    {
      "cell_type": "markdown",
      "id": "cc130bd4-22b3-4c98-86f0-455206512c97",
      "metadata": {
        "id": "cc130bd4-22b3-4c98-86f0-455206512c97"
      },
      "source": [
        "### División del dataset en train y test"
      ]
    },
    {
      "cell_type": "markdown",
      "id": "0d47c541-c845-4a7f-9059-967319566149",
      "metadata": {
        "id": "0d47c541-c845-4a7f-9059-967319566149"
      },
      "source": [
        "Cuando empezamos a generar el modelo lo primero que hacemos es dividir el dataset en test y train:\n"
      ]
    },
    {
      "cell_type": "code",
      "execution_count": null,
      "id": "69e8ba17-4f8d-4baa-80d6-3d30f4489b90",
      "metadata": {
        "id": "69e8ba17-4f8d-4baa-80d6-3d30f4489b90"
      },
      "outputs": [],
      "source": [
        "data_lr = cust_churn_clean_df\n",
        "set.seed(123)\n",
        "inTrain = createDataPartition(y = cust_churn_clean_df$is_churned\n",
        "                              ,p = 0.7 # 70% train, 30% test\n",
        "                              , list = FALSE\n",
        "                              , times = 1)\n",
        "\n",
        "data_train  = data_lr[inTrain, ]\n",
        "data_test = data_lr[-inTrain, ]"
      ]
    },
    {
      "cell_type": "code",
      "execution_count": null,
      "id": "1f2dcbdc-74c6-4dce-b75e-a2d0d69e1fb2",
      "metadata": {
        "id": "1f2dcbdc-74c6-4dce-b75e-a2d0d69e1fb2"
      },
      "outputs": [],
      "source": [
        "dim(data_train)\n",
        "dim(data_test)"
      ]
    },
    {
      "cell_type": "markdown",
      "id": "e62be69b-0d93-4a70-b898-9da79649e46a",
      "metadata": {
        "id": "e62be69b-0d93-4a70-b898-9da79649e46a"
      },
      "source": [
        "- Estos conjuntos de datos se utilizarán para entrenar y testear el modelo de regresión logística, donde el modelo se ajustará a los datos de entrenamiento y se utilizará para hacer predicciones sobre los datos de prueba. Esto le permitirá evaluar el rendimiento del modelo en datos no observados y asegurarse de que el modelo generaliza bien con nuevos datos."
      ]
    },
    {
      "cell_type": "markdown",
      "id": "a40ac094-8958-4b97-8126-c5a84caebc4a",
      "metadata": {
        "id": "a40ac094-8958-4b97-8126-c5a84caebc4a"
      },
      "source": [
        "### Selección de variables predictoras"
      ]
    },
    {
      "cell_type": "markdown",
      "id": "1ce895fe-23a8-4a79-9dd7-7369a87f0132",
      "metadata": {
        "id": "1ce895fe-23a8-4a79-9dd7-7369a87f0132"
      },
      "source": [
        "- Posteriormente al PCA, con las variables que nos hemos quedado, cuando ya hemos detectado los predictores que queremos entrar al modelo, debemos confirmar que estos son independientes entre ellos: buscamos si puede haber problemas multicolinealidad.\n",
        "\n",
        "- Volvemos a generar las correlaciones solo con las variables numéricas que nos interesan. "
      ]
    },
    {
      "cell_type": "markdown",
      "id": "8aed2d4b-9815-4a87-a0af-9e9bf8557474",
      "metadata": {
        "id": "8aed2d4b-9815-4a87-a0af-9e9bf8557474"
      },
      "source": [
        "Variables numéricas seleccionadas entre el análisis de correlación, el análisis de información mútua y el PCA:\n",
        "- first_payment_amount\n",
        "- payments_initiated\n",
        "- payments_completed\n",
        "- reward_purchase_count_first_7days\n",
        "- payments_completed_amount_first_7days\n",
        "- visits_feature_1\n",
        "- visits_feature_2"
      ]
    },
    {
      "cell_type": "code",
      "execution_count": null,
      "id": "f8ea12f3-f7f0-42a8-a553-ae30bf7691b7",
      "metadata": {
        "id": "f8ea12f3-f7f0-42a8-a553-ae30bf7691b7"
      },
      "outputs": [],
      "source": [
        "pca_var <- c(\"first_payment_amount\", \n",
        "             \"payments_initiated\", \n",
        "             \"payments_completed\", \n",
        "             \"reward_purchase_count_first_7days\", \n",
        "             \"payments_completed_amount_first_7days\",\n",
        "             \"visits_feature_1\", \n",
        "             \"visits_feature_2\"            \n",
        "            )\n",
        "pca_data <- cust_churn_clean_df[pca_var]"
      ]
    },
    {
      "cell_type": "code",
      "execution_count": null,
      "id": "27bbe58a-5dfe-4c46-8574-fe54e835cd9d",
      "metadata": {
        "id": "27bbe58a-5dfe-4c46-8574-fe54e835cd9d"
      },
      "outputs": [],
      "source": [
        "# create an empty vector to store the results\n",
        "correlations_pca <- c()\n",
        "\n",
        "# loop through each numerical variable and calculate the biserial correlation\n",
        "for (var in colnames(pca_data)) {\n",
        "  # calculate biserial correlation between the current variable and the target variable\n",
        "  cor <- biserial.cor(pca_data[[var]], cust_churn_clean_df$is_churned)\n",
        "  correlations_pca <- c(correlations_pca, cor)\n",
        "}\n",
        "\n",
        "# print the results\n",
        "cor_var_pca <- data.frame(variable = colnames(pca_data), correlation = correlations_pca)\n",
        "cor_var_pca"
      ]
    },
    {
      "cell_type": "markdown",
      "id": "2c892848-9005-443f-a684-bbe039456e29",
      "metadata": {
        "id": "2c892848-9005-443f-a684-bbe039456e29"
      },
      "source": [
        "- Parece ser, por ejemplo, que elegir reward_purchase_count_first_7days, payments_completed_amount_first_7days, first_payment_amount y payments_initiated puede ser una buena opción (como ya habíamos visto anteriormente). \n",
        "\n",
        "- Como en el caso de la regresión lineal, debemos comprobar si hay multicolinealidad en el modelo. A continuación comprobaremos que efectivamente no presenten problemas de multicolinealidad."
      ]
    },
    {
      "cell_type": "markdown",
      "id": "34040517-1371-4c25-b245-4bd5b68a6913",
      "metadata": {
        "tags": [],
        "id": "34040517-1371-4c25-b245-4bd5b68a6913"
      },
      "source": [
        "## Modelos de Regresión Logística"
      ]
    },
    {
      "cell_type": "markdown",
      "id": "a2bdde50-2593-4e3e-94ff-7819a1d79f13",
      "metadata": {
        "id": "a2bdde50-2593-4e3e-94ff-7819a1d79f13"
      },
      "source": [
        "### Modelo 1"
      ]
    },
    {
      "cell_type": "code",
      "execution_count": null,
      "id": "410c7d3d-33de-468c-9658-fe53ef7c9f55",
      "metadata": {
        "id": "410c7d3d-33de-468c-9658-fe53ef7c9f55"
      },
      "outputs": [],
      "source": [
        "# Fit logistic regression model on the training data\n",
        "logitMod_1 <- glm(is_churned ~ first_payment_amount + \n",
        "                   payments_initiated + \n",
        "                   payments_completed + \n",
        "                   reward_purchase_count_first_7days + \n",
        "                   payments_completed_amount_first_7days + \n",
        "                   visits_feature_1 + visits_feature_2, \n",
        "                 data=data_train, family=binomial(link=\"logit\"))\n",
        "# summary \n",
        "summary(logitMod_1)\n",
        "\n",
        "# Make predictions on the test data\n",
        "m1_prob <- predict(logitMod_1, newdata=data_test, type = 'response')\n",
        "m1_pred <- ifelse(m1_prob > 0.4, 1, 0)\n",
        "\n",
        "# Compute confusion matrix\n",
        "cm <- confusionMatrix(factor(m1_pred), factor(data_test$is_churned))\n",
        "print(cm)"
      ]
    },
    {
      "cell_type": "code",
      "execution_count": null,
      "id": "28e908d6-4147-4ea8-9ef8-1f551382e2fe",
      "metadata": {
        "id": "28e908d6-4147-4ea8-9ef8-1f551382e2fe"
      },
      "outputs": [],
      "source": [
        "# Calculate the VIF for each predictor in the model\n",
        "VIF(logitMod_1)"
      ]
    },
    {
      "cell_type": "markdown",
      "id": "e66ab356-52eb-418e-8a5e-695132858abc",
      "metadata": {
        "id": "e66ab356-52eb-418e-8a5e-695132858abc"
      },
      "source": [
        "Creamos un gráfico para ver que valores VIF superan el 5:"
      ]
    },
    {
      "cell_type": "code",
      "execution_count": null,
      "id": "63c524d3-3ced-48ff-83e9-f341690b1fb6",
      "metadata": {
        "id": "63c524d3-3ced-48ff-83e9-f341690b1fb6"
      },
      "outputs": [],
      "source": [
        "options(repr.plot.width = 8, repr.plot.height = 4)\n",
        "\n",
        "par(mar = c(3,17,4,1) + 0.1, mgp = c(3,1,0), cex.lab=0.9)\n",
        "\n",
        "# create vector of VIF values\n",
        "vif_values <- VIF(logitMod_1)\n",
        "\n",
        "#create horizontal bar chart to display each VIF value\n",
        "barplot(vif_values, main = \"VIF Values\", horiz = TRUE, col = \"steelblue\", las=2, xlim = c(0, 5))\n",
        "\n",
        "# add vertical line at 5\n",
        "abline(v = 5, lwd = 3, lty = 2)"
      ]
    },
    {
      "cell_type": "markdown",
      "id": "8c428edb-deb8-4673-bcfd-4ee6c490a8c7",
      "metadata": {
        "id": "8c428edb-deb8-4673-bcfd-4ee6c490a8c7"
      },
      "source": [
        "- Como podemos observar, todas las variables del modelo tienen un VIF muy por debajo de 5.\n",
        "- Parece ser que las variables candidatas a ser predictoras (first_payment_amount, payments_initiated, payments_completed, reward_purchase_count_first_7days, payments_completed_amount_first_7days, visits_feature_1, visits_feature_2) no presentan problemas de multicolinealidad."
      ]
    },
    {
      "cell_type": "markdown",
      "id": "4e9e769c-c137-45b3-904a-6292c0e22ccf",
      "metadata": {
        "id": "4e9e769c-c137-45b3-904a-6292c0e22ccf"
      },
      "source": [
        "### Modelo 2"
      ]
    },
    {
      "cell_type": "code",
      "execution_count": null,
      "id": "ce97b241-95f9-406c-96b6-b6230ab68282",
      "metadata": {
        "id": "ce97b241-95f9-406c-96b6-b6230ab68282"
      },
      "outputs": [],
      "source": [
        "# Fit logistic regression model on the training data\n",
        "logitMod_2 <- glm(is_churned ~ first_payment_amount + payments_completed, \n",
        "                  data=data_train, family=binomial(link=\"logit\"))\n",
        "# summary \n",
        "summary(logitMod_2)\n",
        "\n",
        "# Make predictions on the test data\n",
        "m2_prob <- predict(logitMod_2, newdata=data_test, type = 'response')\n",
        "m2_pred <- ifelse(m2_prob > 0.3, 1, 0)\n",
        "\n",
        "# Compute confusion matrix\n",
        "cm_2 <- confusionMatrix(factor(m2_pred), factor(data_test$is_churned))\n",
        "print(cm_2)"
      ]
    },
    {
      "cell_type": "markdown",
      "id": "fad4db02-c004-40f5-b307-edebfffe6870",
      "metadata": {
        "id": "fad4db02-c004-40f5-b307-edebfffe6870"
      },
      "source": [
        "### Modelo 3"
      ]
    },
    {
      "cell_type": "code",
      "execution_count": null,
      "id": "98d5b803-8845-4761-88c3-b91dce6ba94d",
      "metadata": {
        "id": "98d5b803-8845-4761-88c3-b91dce6ba94d"
      },
      "outputs": [],
      "source": [
        "# Fit logistic regression model on the training data\n",
        "logitMod_3 <- glm(is_churned ~  first_payment_amount + payments_initiated + reward_purchase_count_first_7days, \n",
        "                  data=data_train, family=binomial(link=\"logit\"))\n",
        "# summary \n",
        "summary(logitMod_3)\n",
        "\n",
        "# Make predictions on the test data\n",
        "m3_prob <- predict(logitMod_3, newdata=data_test, type = 'response')\n",
        "m3_pred <- ifelse(m3_prob > 0.3, 1, 0)\n",
        "\n",
        "# Compute confusion matrix\n",
        "cm_3 <- confusionMatrix(factor(m3_pred), factor(data_test$is_churned))\n",
        "print(cm_3)"
      ]
    },
    {
      "cell_type": "markdown",
      "id": "e2ccf20b-d2c0-4375-b90e-d9aa2e58b78e",
      "metadata": {
        "id": "e2ccf20b-d2c0-4375-b90e-d9aa2e58b78e"
      },
      "source": [
        "### Modelo 4"
      ]
    },
    {
      "cell_type": "code",
      "execution_count": null,
      "id": "71e4b410-5877-48f8-a74d-2d5fea3294d1",
      "metadata": {
        "id": "71e4b410-5877-48f8-a74d-2d5fea3294d1"
      },
      "outputs": [],
      "source": [
        "# Fit logistic regression model on the training data\n",
        "logitMod_4 <- glm(is_churned ~  reward_purchase_count_first_7days + \n",
        "                  payments_completed_amount_first_7days +\n",
        "                  first_payment_amount +\n",
        "                  payments_initiated, \n",
        "                  data=data_train, family=binomial(link=\"logit\"))\n",
        "# summary \n",
        "summary(logitMod_4)\n",
        "\n",
        "# Make predictions on the test data\n",
        "m4_prob <- predict(logitMod_4, newdata=data_test, type = 'response')\n",
        "m4_pred <- ifelse(m4_prob > 0.3, 1, 0)\n",
        "\n",
        "# Compute confusion matrix\n",
        "cm_4 <- confusionMatrix(factor(m4_pred), factor(data_test$is_churned))\n",
        "print(cm_4)"
      ]
    },
    {
      "cell_type": "markdown",
      "id": "5ec7b8b8-e5dd-49da-913f-87778e23e200",
      "metadata": {
        "id": "5ec7b8b8-e5dd-49da-913f-87778e23e200"
      },
      "source": [
        "- El modelo 1, con las variables predictoras first_payment_amount, payments_initiated, payments_completed, reward_purchase_count_first_7days, payments_completed_amount_first_7days, visits_feature_1, y visits_feature_2,  clasificó correctamente 21149 casos como clase 0 (no churn) y 1589 casos como clase 1 (churn), y clasificó erróneamente 7356 casos como falsos negativos (pronosticados como no churn, pero en realidad sí churn) y 1106 casos como falsos positivos (pronosticados como churn, pero en realidad no churn). La accuracy del modelo es de 0.7288, lo que significa que clasificó correctamente el 72.88% de los casos.\n",
        "\n",
        "- El modelo 2, con las variables predictoras first_payment_amount y payments_completed, clasificó correctamente 12477 casos como clase 0 (no churn) y 6573 casos como clase 1 (churn), y clasificó erróneamente 2372 casos como falsos negativos (pronosticados como no churn, pero en realidad sí churn) y 9778 casos como falsos positivos (pronosticados como churn, pero en realidad no churn). La accuracy del modelo es de 0.6106, lo que significa que clasificó correctamente el 61% de los casos.\n",
        "\n",
        "- El modelo 3, con las variables predictoras first_payment_amount, payments_initiated y  reward_purchase_count_first_7days, clasificó correctamente 12126 casos como clase 0 (no churn) y 6570 casos como clase 1 (churn), y clasificó erróneamente 2375 casos como falsos negativos (pronosticados como no churn, pero en realidad sí churn) y 10129 casos como falsos positivos (pronosticados como churn, pero en realidad no churn). La accuracy del modelo es de 0.5992, lo que significa que clasificó correctamente el 59.92% de los casos.\n",
        "\n",
        "- El modelo 4, con las variables predictoras reward_purchase_count_first_7days, payments_completed_amount_first_7days, first_payment_amount y payments_initiated, clasificó correctamente 11891 casos como clase 0 (no churn) y 6673 casos como clase 1 (churn), y clasificó erróneamente 2272 casos como falsos negativos (pronosticados como no churn, pero en realidad sí churn) y 10364 casos como falsos positivos (pronosticados como churn, pero en realidad no churn). La accuracy del modelo es de 0.595, lo que significa que clasificó correctamente el 59.5% de los casos.\n",
        "\n",
        "Por tanto, el mejor modelo ha sido el modelo 1, con las variables predictoras first_payment_amount, payments_initiated, payments_completed, reward_purchase_count_first_7days, payments_completed_amount_first_7days, visits_feature_1, y visits_feature_2."
      ]
    },
    {
      "cell_type": "markdown",
      "id": "7486dac2-8642-4a76-bc5e-e63910c031a6",
      "metadata": {
        "id": "7486dac2-8642-4a76-bc5e-e63910c031a6"
      },
      "source": [
        "Centrándonos por ende en el modelo 1, observando el resumen (summary) vemos que:\n",
        "\n",
        "- El resultado muestra el resumen de un modelo de regresión logística con siete variables predictoras: first_payment_amount, payments_initiated, payments_completed, reward_purchase_count_first_7days, payments_completed_amount_first_7days, visits_feature_1, y visits_feature_2. El modelo pretende predecir si un usuario se dará de baja (1) o no (0) en función de estas variables.\n",
        "\n",
        "- La tabla de coeficientes muestra el efecto estimado de cada variable predictiva sobre la probabilidad de abandono. Un coeficiente negativo indica que un aumento de la variable predictiva se asocia a una disminución de la probabilidad de abandono, mientras que un coeficiente positivo indica lo contrario. Todas las variables predictoras de este modelo tienen coeficientes negativos, lo que sugiere que los valores más altos de estas variables se asocian con menores probabilidades de abandono. Los p-values de todas las variables son inferiores a 0.05, lo que indica que todas las variables predictoras son estadísticamente significativas a la hora de predecir el abandono.\n",
        "\n",
        "- Los residuos de desviación oscilan entre -1.0206 y 8.4904, con la mayoría de ellos entre -0.9 y 1.3, lo que indica que el modelo es capaz de explicar la mayor parte de la variación de los datos. \n",
        "\n",
        "- La diferencia entre las desviaciones (es decir, desviación nula - desviación residual) es la cantidad de desviación explicada por las variables predictoras del modelo. En este caso, las variables predictoras explican una desviación de 4033, lo que indica que el modelo se ajusta bien a los datos.\n",
        "\n",
        "- El valor AIC  es una medida de la calidad del ajuste del modelo, donde un valor AIC más bajo indica un mejor ajuste del modelo. El valor AIC para este modelo es 83223, que es relativamente bajo, lo que indica que el modelo tiene un buen ajuste.\n",
        "\n",
        "En conclusión, el modelo de regresión logística muestra que todas las variables predictoras son estadísticamente significativas para predecir el churn. El modelo tiene un buen ajuste, como indican los residuos de desviación y el valor AIC. Los coeficientes negativos de todas las variables predictoras sugieren que los valores más altos de estas variables se asocian con menores probabilidades de abandono. Estos datos podrían ayudar a identificar a los usuarios con riesgo de abandono y a tomar las medidas adecuadas para retenerlos.\n",
        "\n",
        "\n",
        "<br>\n",
        "<br>\n",
        "\n",
        "Observando el resultado de la matriz de confusión (ya comentada anteriormente) y las demás métricas de interés, vemos que:\n",
        "\n",
        "\n",
        "- La sensibilidad del modelo es de 0.9503, lo que indica que el modelo identifica correctamente al 95.03% de los clientes que abandonaron. La especificidad es de 0.1776, lo que indica que el modelo sólo identifica correctamente al 17.76% de los clientes que no abandonaron. El valor predictivo positivo (VPP) es de 0.7419, lo que indica que, de todos los clientes que el modelo predijo que abandonarían, el 74.19% lo hicieron realmente. El valor predictivo negativo (VPN) es de 0.5896, lo que indica que de todos los clientes que el modelo predijo que no abandonarían, el 58.96% no lo hizo.\n",
        "\n",
        "- La prevalencia de churns en el conjunto de datos es de 0.7133, y la tasa de detección del modelo es de 0.6779, lo que indica que el modelo detecta el 67.79% de todos los clientes que realmente se dieron de baja. La prevalencia de detección del modelo es de 0.9136, lo que indica que el modelo predice que el 91.36% de los clientes se darán de baja.\n",
        "\n",
        "- La accuracy equilibrada del modelo es de 0.5640, que es la media de la sensibilidad y la especificidad. En este caso, la clase \"positiva\" son los clientes que no cambiaron de proveedor y la clase \"negativa\" son los clientes que cambiaron de proveedor.\n",
        "\n",
        "En conclusión, las variables predictoras first_payment_amount, payments_initiated, payments_completed, reward_purchase_count_first_7days, payments_completed_amount_first_7days, visits_feature_1, y visits_feature_2 han sido las que mejor resultado han dado. El modelo de regresión logística tiene una accuracy ligeramente superior a la de adivinar la clase mayoritaria, pero la concordancia entre las clases reales y las predichas es sólo ligeramente superior al azar. El modelo tiene una alta sensibilidad para detectar a los clientes que se han dado de baja, pero una baja especificidad para identificar a los clientes que no se han dado de baja. El valor predictivo positivo del modelo es relativamente bueno, pero el valor predictivo negativo es bajo. La prevalencia del churn en el conjunto de datos es alta, y la tasa de detección del modelo es moderada. "
      ]
    },
    {
      "cell_type": "markdown",
      "id": "933b0543-cc79-4792-9367-87f950ed8717",
      "metadata": {
        "id": "933b0543-cc79-4792-9367-87f950ed8717"
      },
      "source": [
        "## Conclusiones y vías abiertas"
      ]
    },
    {
      "cell_type": "markdown",
      "id": "773bb824-8424-4377-b8bc-eaa4185dfccf",
      "metadata": {
        "id": "773bb824-8424-4377-b8bc-eaa4185dfccf"
      },
      "source": [
        "A partir de los resultados del modelo 1 de regresión logística, podemos identificar las variables que más influyen en la pérdida de clientes. Los coeficientes de las variables predictoras sugieren que los siguientes factores tienen un impacto negativo en la pérdida de clientes (es decir, valores más altos de estas variables reducen la probabilidad de pérdida de clientes):\n",
        "\n",
        "- Mayor importe del primer pago\n",
        "- Mayor número de pagos iniciados\n",
        "- Mayor número de pagos completados\n",
        "- Mayor número de recompensas reclamadas en los primeros 7 días\n",
        "- Mayor importe de pago completado en los primeros 7 días\n",
        "- Mayor número de visitas de los usuarios al producto 1\n",
        "- Mayor número de visitas de los usuarios al producto 2\n",
        "\n",
        "Por lo tanto, basándose en los resultados, la empresa podría considerar las siguientes recomendaciones para reducir el churn:\n",
        "\n",
        "- Animar a los usuarios a realizar un primer pago más elevado ofreciéndoles descuentos u ofertas especiales. Esto puede aumentar su compromiso con el servicio y reducir la probabilidad de abandono.\n",
        "\n",
        "- Aumentar el compromiso con los usuarios animándoles a iniciar más pagos y a completar más pagos. Esto puede lograrse ofreciendo servicios, funciones o incentivos adicionales a los usuarios.\n",
        "\n",
        "- Ofrecer más recompensas e incentivos durante los primeros 7 días de afiliación para animar a los usuarios a seguir utilizando el servicio.\n",
        "\n",
        "- Centrarse en mejorar el compromiso de los usuarios con las funciones 1 y 2 del producto, ya que parece tener un fuerte impacto negativo en el churn.\n",
        "\n",
        "El modelo de regresión logística puede ayudar a la empresa a llegar a estas conclusiones al proporcionar información sobre las variables que más influyen en la pérdida de clientes. Al identificar estas variables, la empresa puede desarrollar estrategias específicas para mejorar estos aspectos del servicio y reducir la pérdida de clientes. Además, el modelo puede utilizarse para predecir la probabilidad de que un usuario abandone el servicio en función de sus características. Esto puede utilizarse para desarrollar estrategias de retención personalizadas y mejorar la eficacia de los esfuerzos de prevención de la empresa."
      ]
    },
    {
      "cell_type": "markdown",
      "id": "1db1142e-d603-456f-9648-d962f614cba3",
      "metadata": {
        "id": "1db1142e-d603-456f-9648-d962f614cba3"
      },
      "source": [
        "## Referencias"
      ]
    },
    {
      "cell_type": "markdown",
      "id": "8d1dc36a-b272-426b-9ee0-140002519d04",
      "metadata": {
        "id": "8d1dc36a-b272-426b-9ee0-140002519d04"
      },
      "source": [
        "[1] Chen, L.-P. (2021). Practical Statistics for Data Scientists. Technometrics (Vol. 63, pp. 272–273).\n",
        "\n",
        "[2] Hastie, T., Tibshirani, R., James, G., & Witten, D. (2021). An introduction to Statistical Learning with Applications in R (2nd Edition). Springer Texts, 102, 618.\n",
        "\n",
        "[3] Compare multiple sample variances in R. STHDA. Retrieved January 17, 2023, from http://www.sthda.com/english/wiki/compare-multiple-sample-variances-in-r \n",
        "\n",
        "\n",
        "[4] https://www.paultwin.com/wp-content/uploads/Lodder_1140873_Paper_Imputation.pdf\n",
        "\n",
        "\n",
        "[5] https://citeseerx.ist.psu.edu/viewdoc/download?doi=10.1.1.496.3324&rep=rep1&type=pdf\n"
      ]
    }
  ],
  "metadata": {
    "kernelspec": {
      "display_name": "R",
      "language": "R",
      "name": "ir"
    },
    "language_info": {
      "codemirror_mode": "r",
      "file_extension": ".r",
      "mimetype": "text/x-r-source",
      "name": "R",
      "pygments_lexer": "r",
      "version": "3.6.3"
    },
    "colab": {
      "provenance": [],
      "toc_visible": true,
      "include_colab_link": true
    }
  },
  "nbformat": 4,
  "nbformat_minor": 5
}